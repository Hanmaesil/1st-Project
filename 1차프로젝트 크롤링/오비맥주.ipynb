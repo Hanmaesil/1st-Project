{
 "cells": [
  {
   "cell_type": "code",
   "execution_count": 1,
   "id": "6dba5a72",
   "metadata": {},
   "outputs": [],
   "source": [
    "from selenium import webdriver as wb\n",
    "from selenium.webdriver.common.keys import Keys\n",
    "import time\n",
    "import random\n",
    "import requests as req\n",
    "from bs4 import BeautifulSoup as bs\n",
    "import re\n",
    "import pandas as pd"
   ]
  },
  {
   "cell_type": "code",
   "execution_count": 2,
   "id": "afb3c7b3",
   "metadata": {},
   "outputs": [],
   "source": [
    "driver = wb.Chrome()\n",
    "driver.maximize_window()\n",
    "time.sleep(random.uniform(2,4))\n",
    "driver.get('https://www.ob.co.kr/brands')"
   ]
  },
  {
   "cell_type": "code",
   "execution_count": 48,
   "id": "5b83d662",
   "metadata": {
    "scrolled": true
   },
   "outputs": [
    {
     "name": "stderr",
     "output_type": "stream",
     "text": [
      "C:\\Users\\smhrd\\AppData\\Local\\Temp/ipykernel_16308/3647071401.py:7: DeprecationWarning: find_element_by_* commands are deprecated. Please use find_element() instead\n",
      "  btn = driver.find_element_by_css_selector('#wrap > div.sub > div.cont-brand.contents.border-t > ul > li:nth-child('+str(i)+') > div.txt-box > a > div > div')\n",
      "C:\\Users\\smhrd\\AppData\\Local\\Temp/ipykernel_16308/3647071401.py:12: DeprecationWarning: find_element_by_* commands are deprecated. Please use find_element() instead\n",
      "  name = driver.find_element_by_css_selector('#wrap > div.sub.clearfix > div.cont-wrap > div.contents.cont-brand.border-t > div > ul.img-list.big-img.border-t > li:nth-child('+str(j)+') > div.text > div > div > h4')\n",
      "C:\\Users\\smhrd\\AppData\\Local\\Temp/ipykernel_16308/3647071401.py:14: DeprecationWarning: find_element_by_* commands are deprecated. Please use find_element() instead\n",
      "  des = driver.find_element_by_css_selector('#wrap > div.sub.clearfix > div.cont-wrap > div.contents.cont-brand.border-t > div > ul.img-list.big-img.border-t > li:nth-child('+str(j)+') > div.text > div > div > p:nth-child(2)')\n",
      "C:\\Users\\smhrd\\AppData\\Local\\Temp/ipykernel_16308/3647071401.py:16: DeprecationWarning: find_element_by_* commands are deprecated. Please use find_element() instead\n",
      "  abv = driver.find_element_by_css_selector(\"#wrap > div.sub.clearfix > div.cont-wrap > div.contents.cont-brand.border-t > div > ul.img-list.big-img.border-t > li:nth-child(\"+str(j)+\") > div.text > div > div > p.comp-table\")\n"
     ]
    },
    {
     "ename": "NoSuchElementException",
     "evalue": "Message: no such element: Unable to locate element: {\"method\":\"css selector\",\"selector\":\"#wrap > div.sub.clearfix > div.cont-wrap > div.contents.cont-brand.border-t > div > ul.img-list.big-img.border-t > li:nth-child(2) > div.text > div > div > h4\"}\n  (Session info: chrome=98.0.4758.82)\nStacktrace:\nBacktrace:\n\tOrdinal0 [0x00C97AC3+2587331]\n\tOrdinal0 [0x00C2ADD1+2141649]\n\tOrdinal0 [0x00B23BB8+1063864]\n\tOrdinal0 [0x00B501CE+1245646]\n\tOrdinal0 [0x00B503CB+1246155]\n\tOrdinal0 [0x00B7A612+1418770]\n\tOrdinal0 [0x00B686D4+1345236]\n\tOrdinal0 [0x00B78A0A+1411594]\n\tOrdinal0 [0x00B684A6+1344678]\n\tOrdinal0 [0x00B453F6+1201142]\n\tOrdinal0 [0x00B462E6+1204966]\n\tGetHandleVerifier [0x00E3DF22+1680738]\n\tGetHandleVerifier [0x00EF0DBC+2413564]\n\tGetHandleVerifier [0x00D2D151+563089]\n\tGetHandleVerifier [0x00D2BF13+558419]\n\tOrdinal0 [0x00C3081E+2164766]\n\tOrdinal0 [0x00C35508+2184456]\n\tOrdinal0 [0x00C35650+2184784]\n\tOrdinal0 [0x00C3F5BC+2225596]\n\tBaseThreadInitThunk [0x75F2FA29+25]\n\tRtlGetAppContainerNamedObjectPath [0x770D7A9E+286]\n\tRtlGetAppContainerNamedObjectPath [0x770D7A6E+238]\n",
     "output_type": "error",
     "traceback": [
      "\u001b[1;31m---------------------------------------------------------------------------\u001b[0m",
      "\u001b[1;31mNoSuchElementException\u001b[0m                    Traceback (most recent call last)",
      "\u001b[1;32m~\\AppData\\Local\\Temp/ipykernel_16308/3647071401.py\u001b[0m in \u001b[0;36m<module>\u001b[1;34m\u001b[0m\n\u001b[0;32m     10\u001b[0m     \u001b[1;32mif\u001b[0m \u001b[0mi\u001b[0m \u001b[1;33m==\u001b[0m \u001b[1;36m1\u001b[0m\u001b[1;33m:\u001b[0m\u001b[1;33m\u001b[0m\u001b[1;33m\u001b[0m\u001b[0m\n\u001b[0;32m     11\u001b[0m         \u001b[1;32mfor\u001b[0m \u001b[0mj\u001b[0m \u001b[1;32min\u001b[0m \u001b[0mrange\u001b[0m\u001b[1;33m(\u001b[0m\u001b[1;36m1\u001b[0m\u001b[1;33m,\u001b[0m\u001b[1;36m4\u001b[0m\u001b[1;33m)\u001b[0m\u001b[1;33m:\u001b[0m\u001b[1;33m\u001b[0m\u001b[1;33m\u001b[0m\u001b[0m\n\u001b[1;32m---> 12\u001b[1;33m             \u001b[0mname\u001b[0m \u001b[1;33m=\u001b[0m \u001b[0mdriver\u001b[0m\u001b[1;33m.\u001b[0m\u001b[0mfind_element_by_css_selector\u001b[0m\u001b[1;33m(\u001b[0m\u001b[1;34m'#wrap > div.sub.clearfix > div.cont-wrap > div.contents.cont-brand.border-t > div > ul.img-list.big-img.border-t > li:nth-child('\u001b[0m\u001b[1;33m+\u001b[0m\u001b[0mstr\u001b[0m\u001b[1;33m(\u001b[0m\u001b[0mj\u001b[0m\u001b[1;33m)\u001b[0m\u001b[1;33m+\u001b[0m\u001b[1;34m') > div.text > div > div > h4'\u001b[0m\u001b[1;33m)\u001b[0m\u001b[1;33m\u001b[0m\u001b[1;33m\u001b[0m\u001b[0m\n\u001b[0m\u001b[0;32m     13\u001b[0m             \u001b[0mname_list\u001b[0m\u001b[1;33m.\u001b[0m\u001b[0mappend\u001b[0m\u001b[1;33m(\u001b[0m\u001b[0mname\u001b[0m\u001b[1;33m.\u001b[0m\u001b[0mtext\u001b[0m\u001b[1;33m)\u001b[0m\u001b[1;33m\u001b[0m\u001b[1;33m\u001b[0m\u001b[0m\n\u001b[0;32m     14\u001b[0m             \u001b[0mdes\u001b[0m \u001b[1;33m=\u001b[0m \u001b[0mdriver\u001b[0m\u001b[1;33m.\u001b[0m\u001b[0mfind_element_by_css_selector\u001b[0m\u001b[1;33m(\u001b[0m\u001b[1;34m'#wrap > div.sub.clearfix > div.cont-wrap > div.contents.cont-brand.border-t > div > ul.img-list.big-img.border-t > li:nth-child('\u001b[0m\u001b[1;33m+\u001b[0m\u001b[0mstr\u001b[0m\u001b[1;33m(\u001b[0m\u001b[0mj\u001b[0m\u001b[1;33m)\u001b[0m\u001b[1;33m+\u001b[0m\u001b[1;34m') > div.text > div > div > p:nth-child(2)'\u001b[0m\u001b[1;33m)\u001b[0m\u001b[1;33m\u001b[0m\u001b[1;33m\u001b[0m\u001b[0m\n",
      "\u001b[1;32m~\\anaconda3\\lib\\site-packages\\selenium\\webdriver\\remote\\webdriver.py\u001b[0m in \u001b[0;36mfind_element_by_css_selector\u001b[1;34m(self, css_selector)\u001b[0m\n\u001b[0;32m    806\u001b[0m             \u001b[0mstacklevel\u001b[0m\u001b[1;33m=\u001b[0m\u001b[1;36m2\u001b[0m\u001b[1;33m,\u001b[0m\u001b[1;33m\u001b[0m\u001b[1;33m\u001b[0m\u001b[0m\n\u001b[0;32m    807\u001b[0m         )\n\u001b[1;32m--> 808\u001b[1;33m         \u001b[1;32mreturn\u001b[0m \u001b[0mself\u001b[0m\u001b[1;33m.\u001b[0m\u001b[0mfind_element\u001b[0m\u001b[1;33m(\u001b[0m\u001b[0mby\u001b[0m\u001b[1;33m=\u001b[0m\u001b[0mBy\u001b[0m\u001b[1;33m.\u001b[0m\u001b[0mCSS_SELECTOR\u001b[0m\u001b[1;33m,\u001b[0m \u001b[0mvalue\u001b[0m\u001b[1;33m=\u001b[0m\u001b[0mcss_selector\u001b[0m\u001b[1;33m)\u001b[0m\u001b[1;33m\u001b[0m\u001b[1;33m\u001b[0m\u001b[0m\n\u001b[0m\u001b[0;32m    809\u001b[0m \u001b[1;33m\u001b[0m\u001b[0m\n\u001b[0;32m    810\u001b[0m     \u001b[1;32mdef\u001b[0m \u001b[0mfind_elements_by_css_selector\u001b[0m\u001b[1;33m(\u001b[0m\u001b[0mself\u001b[0m\u001b[1;33m,\u001b[0m \u001b[0mcss_selector\u001b[0m\u001b[1;33m)\u001b[0m \u001b[1;33m->\u001b[0m \u001b[0mWebElement\u001b[0m\u001b[1;33m:\u001b[0m\u001b[1;33m\u001b[0m\u001b[1;33m\u001b[0m\u001b[0m\n",
      "\u001b[1;32m~\\anaconda3\\lib\\site-packages\\selenium\\webdriver\\remote\\webdriver.py\u001b[0m in \u001b[0;36mfind_element\u001b[1;34m(self, by, value)\u001b[0m\n\u001b[0;32m   1242\u001b[0m             \u001b[0mvalue\u001b[0m \u001b[1;33m=\u001b[0m \u001b[1;34m'[name=\"%s\"]'\u001b[0m \u001b[1;33m%\u001b[0m \u001b[0mvalue\u001b[0m\u001b[1;33m\u001b[0m\u001b[1;33m\u001b[0m\u001b[0m\n\u001b[0;32m   1243\u001b[0m \u001b[1;33m\u001b[0m\u001b[0m\n\u001b[1;32m-> 1244\u001b[1;33m         return self.execute(Command.FIND_ELEMENT, {\n\u001b[0m\u001b[0;32m   1245\u001b[0m             \u001b[1;34m'using'\u001b[0m\u001b[1;33m:\u001b[0m \u001b[0mby\u001b[0m\u001b[1;33m,\u001b[0m\u001b[1;33m\u001b[0m\u001b[1;33m\u001b[0m\u001b[0m\n\u001b[0;32m   1246\u001b[0m             'value': value})['value']\n",
      "\u001b[1;32m~\\anaconda3\\lib\\site-packages\\selenium\\webdriver\\remote\\webdriver.py\u001b[0m in \u001b[0;36mexecute\u001b[1;34m(self, driver_command, params)\u001b[0m\n\u001b[0;32m    422\u001b[0m         \u001b[0mresponse\u001b[0m \u001b[1;33m=\u001b[0m \u001b[0mself\u001b[0m\u001b[1;33m.\u001b[0m\u001b[0mcommand_executor\u001b[0m\u001b[1;33m.\u001b[0m\u001b[0mexecute\u001b[0m\u001b[1;33m(\u001b[0m\u001b[0mdriver_command\u001b[0m\u001b[1;33m,\u001b[0m \u001b[0mparams\u001b[0m\u001b[1;33m)\u001b[0m\u001b[1;33m\u001b[0m\u001b[1;33m\u001b[0m\u001b[0m\n\u001b[0;32m    423\u001b[0m         \u001b[1;32mif\u001b[0m \u001b[0mresponse\u001b[0m\u001b[1;33m:\u001b[0m\u001b[1;33m\u001b[0m\u001b[1;33m\u001b[0m\u001b[0m\n\u001b[1;32m--> 424\u001b[1;33m             \u001b[0mself\u001b[0m\u001b[1;33m.\u001b[0m\u001b[0merror_handler\u001b[0m\u001b[1;33m.\u001b[0m\u001b[0mcheck_response\u001b[0m\u001b[1;33m(\u001b[0m\u001b[0mresponse\u001b[0m\u001b[1;33m)\u001b[0m\u001b[1;33m\u001b[0m\u001b[1;33m\u001b[0m\u001b[0m\n\u001b[0m\u001b[0;32m    425\u001b[0m             response['value'] = self._unwrap_value(\n\u001b[0;32m    426\u001b[0m                 response.get('value', None))\n",
      "\u001b[1;32m~\\anaconda3\\lib\\site-packages\\selenium\\webdriver\\remote\\errorhandler.py\u001b[0m in \u001b[0;36mcheck_response\u001b[1;34m(self, response)\u001b[0m\n\u001b[0;32m    245\u001b[0m                 \u001b[0malert_text\u001b[0m \u001b[1;33m=\u001b[0m \u001b[0mvalue\u001b[0m\u001b[1;33m[\u001b[0m\u001b[1;34m'alert'\u001b[0m\u001b[1;33m]\u001b[0m\u001b[1;33m.\u001b[0m\u001b[0mget\u001b[0m\u001b[1;33m(\u001b[0m\u001b[1;34m'text'\u001b[0m\u001b[1;33m)\u001b[0m\u001b[1;33m\u001b[0m\u001b[1;33m\u001b[0m\u001b[0m\n\u001b[0;32m    246\u001b[0m             \u001b[1;32mraise\u001b[0m \u001b[0mexception_class\u001b[0m\u001b[1;33m(\u001b[0m\u001b[0mmessage\u001b[0m\u001b[1;33m,\u001b[0m \u001b[0mscreen\u001b[0m\u001b[1;33m,\u001b[0m \u001b[0mstacktrace\u001b[0m\u001b[1;33m,\u001b[0m \u001b[0malert_text\u001b[0m\u001b[1;33m)\u001b[0m  \u001b[1;31m# type: ignore[call-arg]  # mypy is not smart enough here\u001b[0m\u001b[1;33m\u001b[0m\u001b[1;33m\u001b[0m\u001b[0m\n\u001b[1;32m--> 247\u001b[1;33m         \u001b[1;32mraise\u001b[0m \u001b[0mexception_class\u001b[0m\u001b[1;33m(\u001b[0m\u001b[0mmessage\u001b[0m\u001b[1;33m,\u001b[0m \u001b[0mscreen\u001b[0m\u001b[1;33m,\u001b[0m \u001b[0mstacktrace\u001b[0m\u001b[1;33m)\u001b[0m\u001b[1;33m\u001b[0m\u001b[1;33m\u001b[0m\u001b[0m\n\u001b[0m\u001b[0;32m    248\u001b[0m \u001b[1;33m\u001b[0m\u001b[0m\n\u001b[0;32m    249\u001b[0m     \u001b[1;32mdef\u001b[0m \u001b[0m_value_or_default\u001b[0m\u001b[1;33m(\u001b[0m\u001b[0mself\u001b[0m\u001b[1;33m,\u001b[0m \u001b[0mobj\u001b[0m\u001b[1;33m:\u001b[0m \u001b[0mMapping\u001b[0m\u001b[1;33m[\u001b[0m\u001b[0m_KT\u001b[0m\u001b[1;33m,\u001b[0m \u001b[0m_VT\u001b[0m\u001b[1;33m]\u001b[0m\u001b[1;33m,\u001b[0m \u001b[0mkey\u001b[0m\u001b[1;33m:\u001b[0m \u001b[0m_KT\u001b[0m\u001b[1;33m,\u001b[0m \u001b[0mdefault\u001b[0m\u001b[1;33m:\u001b[0m \u001b[0m_VT\u001b[0m\u001b[1;33m)\u001b[0m \u001b[1;33m->\u001b[0m \u001b[0m_VT\u001b[0m\u001b[1;33m:\u001b[0m\u001b[1;33m\u001b[0m\u001b[1;33m\u001b[0m\u001b[0m\n",
      "\u001b[1;31mNoSuchElementException\u001b[0m: Message: no such element: Unable to locate element: {\"method\":\"css selector\",\"selector\":\"#wrap > div.sub.clearfix > div.cont-wrap > div.contents.cont-brand.border-t > div > ul.img-list.big-img.border-t > li:nth-child(2) > div.text > div > div > h4\"}\n  (Session info: chrome=98.0.4758.82)\nStacktrace:\nBacktrace:\n\tOrdinal0 [0x00C97AC3+2587331]\n\tOrdinal0 [0x00C2ADD1+2141649]\n\tOrdinal0 [0x00B23BB8+1063864]\n\tOrdinal0 [0x00B501CE+1245646]\n\tOrdinal0 [0x00B503CB+1246155]\n\tOrdinal0 [0x00B7A612+1418770]\n\tOrdinal0 [0x00B686D4+1345236]\n\tOrdinal0 [0x00B78A0A+1411594]\n\tOrdinal0 [0x00B684A6+1344678]\n\tOrdinal0 [0x00B453F6+1201142]\n\tOrdinal0 [0x00B462E6+1204966]\n\tGetHandleVerifier [0x00E3DF22+1680738]\n\tGetHandleVerifier [0x00EF0DBC+2413564]\n\tGetHandleVerifier [0x00D2D151+563089]\n\tGetHandleVerifier [0x00D2BF13+558419]\n\tOrdinal0 [0x00C3081E+2164766]\n\tOrdinal0 [0x00C35508+2184456]\n\tOrdinal0 [0x00C35650+2184784]\n\tOrdinal0 [0x00C3F5BC+2225596]\n\tBaseThreadInitThunk [0x75F2FA29+25]\n\tRtlGetAppContainerNamedObjectPath [0x770D7A9E+286]\n\tRtlGetAppContainerNamedObjectPath [0x770D7A6E+238]\n"
     ]
    }
   ],
   "source": [
    "name_list = [] #이름\n",
    "abv_list = [] #도수\n",
    "des_list = [] #설명\n",
    "img_list = [] #이미지경로\n",
    "\n",
    "for i in range(1,2):\n",
    "    btn = driver.find_element_by_css_selector('#wrap > div.sub > div.cont-brand.contents.border-t > ul > li:nth-child('+str(i)+') > div.txt-box > a > div > div')\n",
    "    btn.click()\n",
    "    time.sleep(random.uniform(2,4))\n",
    "    if i == 1:\n",
    "        for j in range(1,4):\n",
    "            name = driver.find_element_by_css_selector('#wrap > div.sub.clearfix > div.cont-wrap > div.contents.cont-brand.border-t > div > ul.img-list.big-img.border-t > li:nth-child('+str(j)+') > div.text > div > div > h4')\n",
    "            name_list.append(name.text)\n",
    "            des = driver.find_element_by_css_selector('#wrap > div.sub.clearfix > div.cont-wrap > div.contents.cont-brand.border-t > div > ul.img-list.big-img.border-t > li:nth-child('+str(j)+') > div.text > div > div > p:nth-child(2)')\n",
    "            des_list.append(des.text)\n",
    "            abv = driver.find_element_by_css_selector(\"#wrap > div.sub.clearfix > div.cont-wrap > div.contents.cont-brand.border-t > div > ul.img-list.big-img.border-t > li:nth-child(\"+str(j)+\") > div.text > div > div > p.comp-table\")\n",
    "            abv_list.append(abv.text)\n",
    "            soup = bs(driver.page_source,\"lxml\")\n",
    "            img = soup.select('#wrap > div.sub.clearfix > div.cont-wrap > div.contents.cont-brand.border-t > div > ul.img-list.big-img.border-t > li:nth-child('+str(j)+') > div.img > img')\n",
    "            img = 'https://www.ob.co.kr' + img[0][\"src\"]\n",
    "            img_list.append(img)\n",
    "            driver.back()\n",
    "    else :\n",
    "        name = driver.find_element_by_css_selector('#wrap > div.sub.clearfix > div.cont-wrap > div.sub-title > h3')\n",
    "        name_list.append(name.text)\n",
    "        abv = driver.find_element_by_css_selector('p.txt.comp-table')\n",
    "        abv_list.append(abv.text)\n",
    "        des = driver.find_element_by_css_selector('p.txt')\n",
    "        des_list.append(des.text)\n",
    "        soup = bs(driver.page_source,\"lxml\")\n",
    "        img = soup.select('div.good-photo>img')\n",
    "        img = 'https://www.ob.co.kr' + img[0][\"src\"]\n",
    "        img_list.append(img)\n",
    "        driver.back()\n",
    "    \n",
    "    \n",
    "    \n",
    "    \n",
    "    \n",
    "    \n",
    "    \n",
    "    \n",
    "    "
   ]
  },
  {
   "cell_type": "code",
   "execution_count": 49,
   "id": "43933df3",
   "metadata": {},
   "outputs": [
    {
     "data": {
      "text/html": [
       "<div>\n",
       "<style scoped>\n",
       "    .dataframe tbody tr th:only-of-type {\n",
       "        vertical-align: middle;\n",
       "    }\n",
       "\n",
       "    .dataframe tbody tr th {\n",
       "        vertical-align: top;\n",
       "    }\n",
       "\n",
       "    .dataframe thead th {\n",
       "        text-align: right;\n",
       "    }\n",
       "</style>\n",
       "<table border=\"1\" class=\"dataframe\">\n",
       "  <thead>\n",
       "    <tr style=\"text-align: right;\">\n",
       "      <th></th>\n",
       "      <th>이름</th>\n",
       "      <th>도수</th>\n",
       "      <th>설명</th>\n",
       "      <th>이미지경로</th>\n",
       "    </tr>\n",
       "  </thead>\n",
       "  <tbody>\n",
       "    <tr>\n",
       "      <th>0</th>\n",
       "      <td>CASS Fresh</td>\n",
       "      <td>도수 : 4.5%\\n종류 : Lager (라거)</td>\n",
       "      <td>카스 프레시는 비열처리공법으로 맥주의 신선한고 톡 쏘는 맛을\\n더욱 향상시켰습니다....</td>\n",
       "      <td>https://www.ob.co.kr/assets/images/brands/bran...</td>\n",
       "    </tr>\n",
       "  </tbody>\n",
       "</table>\n",
       "</div>"
      ],
      "text/plain": [
       "           이름                          도수  \\\n",
       "0  CASS Fresh  도수 : 4.5%\\n종류 : Lager (라거)   \n",
       "\n",
       "                                                  설명  \\\n",
       "0  카스 프레시는 비열처리공법으로 맥주의 신선한고 톡 쏘는 맛을\\n더욱 향상시켰습니다....   \n",
       "\n",
       "                                               이미지경로  \n",
       "0  https://www.ob.co.kr/assets/images/brands/bran...  "
      ]
     },
     "execution_count": 49,
     "metadata": {},
     "output_type": "execute_result"
    }
   ],
   "source": [
    "dic = {\"이름\" : name_list, \"도수\" : abv_list, \"설명\" : des_list, \"이미지경로\" : img_list}\n",
    "fin = pd.DataFrame(dic)\n",
    "fin"
   ]
  },
  {
   "cell_type": "code",
   "execution_count": 42,
   "id": "da5c46b7",
   "metadata": {},
   "outputs": [],
   "source": [
    "fin.to_csv(\"오비맥주.csv\", encoding=\"utf-8-sig\")"
   ]
  },
  {
   "cell_type": "code",
   "execution_count": 3,
   "id": "490e1a46",
   "metadata": {
    "collapsed": true
   },
   "outputs": [
    {
     "name": "stderr",
     "output_type": "stream",
     "text": [
      "C:\\Users\\smhrd\\AppData\\Local\\Temp/ipykernel_16308/3163338058.py:2: DeprecationWarning: find_element_by_* commands are deprecated. Please use find_element() instead\n",
      "  btn = driver.find_element_by_css_selector('#wrap > div.sub > div.cont-brand.contents.border-t > ul > li:nth-child(1) > div.txt-box > a > div > div')\n"
     ]
    }
   ],
   "source": [
    "#버튼(숫자 바꾸기)\n",
    "btn = driver.find_element_by_css_selector('#wrap > div.sub > div.cont-brand.contents.border-t > ul > li:nth-child(1) > div.txt-box > a > div > div')\n",
    "btn.click()"
   ]
  },
  {
   "cell_type": "code",
   "execution_count": 16,
   "id": "71007cc9",
   "metadata": {
    "collapsed": true
   },
   "outputs": [
    {
     "name": "stderr",
     "output_type": "stream",
     "text": [
      "C:\\Users\\smhrd\\AppData\\Local\\Temp/ipykernel_16308/3684535079.py:2: DeprecationWarning: find_element_by_* commands are deprecated. Please use find_element() instead\n",
      "  name = driver.find_element_by_css_selector(\"#wrap > div.sub.clearfix > div.cont-wrap > div.contents.cont-brand.border-t > div > ul.img-list.big-img.border-t > li:nth-child(1) > div.text > div > div > h4\")\n"
     ]
    },
    {
     "ename": "NoSuchElementException",
     "evalue": "Message: no such element: Unable to locate element: {\"method\":\"css selector\",\"selector\":\"#wrap > div.sub.clearfix > div.cont-wrap > div.contents.cont-brand.border-t > div > ul.img-list.big-img.border-t > li:nth-child(1) > div.text > div > div > h4\"}\n  (Session info: chrome=98.0.4758.82)\nStacktrace:\nBacktrace:\n\tOrdinal0 [0x00C97AC3+2587331]\n\tOrdinal0 [0x00C2ADD1+2141649]\n\tOrdinal0 [0x00B23BB8+1063864]\n\tOrdinal0 [0x00B501CE+1245646]\n\tOrdinal0 [0x00B503CB+1246155]\n\tOrdinal0 [0x00B7A612+1418770]\n\tOrdinal0 [0x00B686D4+1345236]\n\tOrdinal0 [0x00B78A0A+1411594]\n\tOrdinal0 [0x00B684A6+1344678]\n\tOrdinal0 [0x00B453F6+1201142]\n\tOrdinal0 [0x00B462E6+1204966]\n\tGetHandleVerifier [0x00E3DF22+1680738]\n\tGetHandleVerifier [0x00EF0DBC+2413564]\n\tGetHandleVerifier [0x00D2D151+563089]\n\tGetHandleVerifier [0x00D2BF13+558419]\n\tOrdinal0 [0x00C3081E+2164766]\n\tOrdinal0 [0x00C35508+2184456]\n\tOrdinal0 [0x00C35650+2184784]\n\tOrdinal0 [0x00C3F5BC+2225596]\n\tBaseThreadInitThunk [0x75F2FA29+25]\n\tRtlGetAppContainerNamedObjectPath [0x770D7A9E+286]\n\tRtlGetAppContainerNamedObjectPath [0x770D7A6E+238]\n",
     "output_type": "error",
     "traceback": [
      "\u001b[1;31m---------------------------------------------------------------------------\u001b[0m",
      "\u001b[1;31mNoSuchElementException\u001b[0m                    Traceback (most recent call last)",
      "\u001b[1;32m~\\AppData\\Local\\Temp/ipykernel_16308/3684535079.py\u001b[0m in \u001b[0;36m<module>\u001b[1;34m\u001b[0m\n\u001b[0;32m      1\u001b[0m \u001b[1;31m#이름(숫자바꾸기)\u001b[0m\u001b[1;33m\u001b[0m\u001b[1;33m\u001b[0m\u001b[0m\n\u001b[1;32m----> 2\u001b[1;33m \u001b[0mname\u001b[0m \u001b[1;33m=\u001b[0m \u001b[0mdriver\u001b[0m\u001b[1;33m.\u001b[0m\u001b[0mfind_element_by_css_selector\u001b[0m\u001b[1;33m(\u001b[0m\u001b[1;34m\"#wrap > div.sub.clearfix > div.cont-wrap > div.contents.cont-brand.border-t > div > ul.img-list.big-img.border-t > li:nth-child(1) > div.text > div > div > h4\"\u001b[0m\u001b[1;33m)\u001b[0m\u001b[1;33m\u001b[0m\u001b[1;33m\u001b[0m\u001b[0m\n\u001b[0m\u001b[0;32m      3\u001b[0m \u001b[0mname\u001b[0m\u001b[1;33m.\u001b[0m\u001b[0mtext\u001b[0m\u001b[1;33m\u001b[0m\u001b[1;33m\u001b[0m\u001b[0m\n",
      "\u001b[1;32m~\\anaconda3\\lib\\site-packages\\selenium\\webdriver\\remote\\webdriver.py\u001b[0m in \u001b[0;36mfind_element_by_css_selector\u001b[1;34m(self, css_selector)\u001b[0m\n\u001b[0;32m    806\u001b[0m             \u001b[0mstacklevel\u001b[0m\u001b[1;33m=\u001b[0m\u001b[1;36m2\u001b[0m\u001b[1;33m,\u001b[0m\u001b[1;33m\u001b[0m\u001b[1;33m\u001b[0m\u001b[0m\n\u001b[0;32m    807\u001b[0m         )\n\u001b[1;32m--> 808\u001b[1;33m         \u001b[1;32mreturn\u001b[0m \u001b[0mself\u001b[0m\u001b[1;33m.\u001b[0m\u001b[0mfind_element\u001b[0m\u001b[1;33m(\u001b[0m\u001b[0mby\u001b[0m\u001b[1;33m=\u001b[0m\u001b[0mBy\u001b[0m\u001b[1;33m.\u001b[0m\u001b[0mCSS_SELECTOR\u001b[0m\u001b[1;33m,\u001b[0m \u001b[0mvalue\u001b[0m\u001b[1;33m=\u001b[0m\u001b[0mcss_selector\u001b[0m\u001b[1;33m)\u001b[0m\u001b[1;33m\u001b[0m\u001b[1;33m\u001b[0m\u001b[0m\n\u001b[0m\u001b[0;32m    809\u001b[0m \u001b[1;33m\u001b[0m\u001b[0m\n\u001b[0;32m    810\u001b[0m     \u001b[1;32mdef\u001b[0m \u001b[0mfind_elements_by_css_selector\u001b[0m\u001b[1;33m(\u001b[0m\u001b[0mself\u001b[0m\u001b[1;33m,\u001b[0m \u001b[0mcss_selector\u001b[0m\u001b[1;33m)\u001b[0m \u001b[1;33m->\u001b[0m \u001b[0mWebElement\u001b[0m\u001b[1;33m:\u001b[0m\u001b[1;33m\u001b[0m\u001b[1;33m\u001b[0m\u001b[0m\n",
      "\u001b[1;32m~\\anaconda3\\lib\\site-packages\\selenium\\webdriver\\remote\\webdriver.py\u001b[0m in \u001b[0;36mfind_element\u001b[1;34m(self, by, value)\u001b[0m\n\u001b[0;32m   1242\u001b[0m             \u001b[0mvalue\u001b[0m \u001b[1;33m=\u001b[0m \u001b[1;34m'[name=\"%s\"]'\u001b[0m \u001b[1;33m%\u001b[0m \u001b[0mvalue\u001b[0m\u001b[1;33m\u001b[0m\u001b[1;33m\u001b[0m\u001b[0m\n\u001b[0;32m   1243\u001b[0m \u001b[1;33m\u001b[0m\u001b[0m\n\u001b[1;32m-> 1244\u001b[1;33m         return self.execute(Command.FIND_ELEMENT, {\n\u001b[0m\u001b[0;32m   1245\u001b[0m             \u001b[1;34m'using'\u001b[0m\u001b[1;33m:\u001b[0m \u001b[0mby\u001b[0m\u001b[1;33m,\u001b[0m\u001b[1;33m\u001b[0m\u001b[1;33m\u001b[0m\u001b[0m\n\u001b[0;32m   1246\u001b[0m             'value': value})['value']\n",
      "\u001b[1;32m~\\anaconda3\\lib\\site-packages\\selenium\\webdriver\\remote\\webdriver.py\u001b[0m in \u001b[0;36mexecute\u001b[1;34m(self, driver_command, params)\u001b[0m\n\u001b[0;32m    422\u001b[0m         \u001b[0mresponse\u001b[0m \u001b[1;33m=\u001b[0m \u001b[0mself\u001b[0m\u001b[1;33m.\u001b[0m\u001b[0mcommand_executor\u001b[0m\u001b[1;33m.\u001b[0m\u001b[0mexecute\u001b[0m\u001b[1;33m(\u001b[0m\u001b[0mdriver_command\u001b[0m\u001b[1;33m,\u001b[0m \u001b[0mparams\u001b[0m\u001b[1;33m)\u001b[0m\u001b[1;33m\u001b[0m\u001b[1;33m\u001b[0m\u001b[0m\n\u001b[0;32m    423\u001b[0m         \u001b[1;32mif\u001b[0m \u001b[0mresponse\u001b[0m\u001b[1;33m:\u001b[0m\u001b[1;33m\u001b[0m\u001b[1;33m\u001b[0m\u001b[0m\n\u001b[1;32m--> 424\u001b[1;33m             \u001b[0mself\u001b[0m\u001b[1;33m.\u001b[0m\u001b[0merror_handler\u001b[0m\u001b[1;33m.\u001b[0m\u001b[0mcheck_response\u001b[0m\u001b[1;33m(\u001b[0m\u001b[0mresponse\u001b[0m\u001b[1;33m)\u001b[0m\u001b[1;33m\u001b[0m\u001b[1;33m\u001b[0m\u001b[0m\n\u001b[0m\u001b[0;32m    425\u001b[0m             response['value'] = self._unwrap_value(\n\u001b[0;32m    426\u001b[0m                 response.get('value', None))\n",
      "\u001b[1;32m~\\anaconda3\\lib\\site-packages\\selenium\\webdriver\\remote\\errorhandler.py\u001b[0m in \u001b[0;36mcheck_response\u001b[1;34m(self, response)\u001b[0m\n\u001b[0;32m    245\u001b[0m                 \u001b[0malert_text\u001b[0m \u001b[1;33m=\u001b[0m \u001b[0mvalue\u001b[0m\u001b[1;33m[\u001b[0m\u001b[1;34m'alert'\u001b[0m\u001b[1;33m]\u001b[0m\u001b[1;33m.\u001b[0m\u001b[0mget\u001b[0m\u001b[1;33m(\u001b[0m\u001b[1;34m'text'\u001b[0m\u001b[1;33m)\u001b[0m\u001b[1;33m\u001b[0m\u001b[1;33m\u001b[0m\u001b[0m\n\u001b[0;32m    246\u001b[0m             \u001b[1;32mraise\u001b[0m \u001b[0mexception_class\u001b[0m\u001b[1;33m(\u001b[0m\u001b[0mmessage\u001b[0m\u001b[1;33m,\u001b[0m \u001b[0mscreen\u001b[0m\u001b[1;33m,\u001b[0m \u001b[0mstacktrace\u001b[0m\u001b[1;33m,\u001b[0m \u001b[0malert_text\u001b[0m\u001b[1;33m)\u001b[0m  \u001b[1;31m# type: ignore[call-arg]  # mypy is not smart enough here\u001b[0m\u001b[1;33m\u001b[0m\u001b[1;33m\u001b[0m\u001b[0m\n\u001b[1;32m--> 247\u001b[1;33m         \u001b[1;32mraise\u001b[0m \u001b[0mexception_class\u001b[0m\u001b[1;33m(\u001b[0m\u001b[0mmessage\u001b[0m\u001b[1;33m,\u001b[0m \u001b[0mscreen\u001b[0m\u001b[1;33m,\u001b[0m \u001b[0mstacktrace\u001b[0m\u001b[1;33m)\u001b[0m\u001b[1;33m\u001b[0m\u001b[1;33m\u001b[0m\u001b[0m\n\u001b[0m\u001b[0;32m    248\u001b[0m \u001b[1;33m\u001b[0m\u001b[0m\n\u001b[0;32m    249\u001b[0m     \u001b[1;32mdef\u001b[0m \u001b[0m_value_or_default\u001b[0m\u001b[1;33m(\u001b[0m\u001b[0mself\u001b[0m\u001b[1;33m,\u001b[0m \u001b[0mobj\u001b[0m\u001b[1;33m:\u001b[0m \u001b[0mMapping\u001b[0m\u001b[1;33m[\u001b[0m\u001b[0m_KT\u001b[0m\u001b[1;33m,\u001b[0m \u001b[0m_VT\u001b[0m\u001b[1;33m]\u001b[0m\u001b[1;33m,\u001b[0m \u001b[0mkey\u001b[0m\u001b[1;33m:\u001b[0m \u001b[0m_KT\u001b[0m\u001b[1;33m,\u001b[0m \u001b[0mdefault\u001b[0m\u001b[1;33m:\u001b[0m \u001b[0m_VT\u001b[0m\u001b[1;33m)\u001b[0m \u001b[1;33m->\u001b[0m \u001b[0m_VT\u001b[0m\u001b[1;33m:\u001b[0m\u001b[1;33m\u001b[0m\u001b[1;33m\u001b[0m\u001b[0m\n",
      "\u001b[1;31mNoSuchElementException\u001b[0m: Message: no such element: Unable to locate element: {\"method\":\"css selector\",\"selector\":\"#wrap > div.sub.clearfix > div.cont-wrap > div.contents.cont-brand.border-t > div > ul.img-list.big-img.border-t > li:nth-child(1) > div.text > div > div > h4\"}\n  (Session info: chrome=98.0.4758.82)\nStacktrace:\nBacktrace:\n\tOrdinal0 [0x00C97AC3+2587331]\n\tOrdinal0 [0x00C2ADD1+2141649]\n\tOrdinal0 [0x00B23BB8+1063864]\n\tOrdinal0 [0x00B501CE+1245646]\n\tOrdinal0 [0x00B503CB+1246155]\n\tOrdinal0 [0x00B7A612+1418770]\n\tOrdinal0 [0x00B686D4+1345236]\n\tOrdinal0 [0x00B78A0A+1411594]\n\tOrdinal0 [0x00B684A6+1344678]\n\tOrdinal0 [0x00B453F6+1201142]\n\tOrdinal0 [0x00B462E6+1204966]\n\tGetHandleVerifier [0x00E3DF22+1680738]\n\tGetHandleVerifier [0x00EF0DBC+2413564]\n\tGetHandleVerifier [0x00D2D151+563089]\n\tGetHandleVerifier [0x00D2BF13+558419]\n\tOrdinal0 [0x00C3081E+2164766]\n\tOrdinal0 [0x00C35508+2184456]\n\tOrdinal0 [0x00C35650+2184784]\n\tOrdinal0 [0x00C3F5BC+2225596]\n\tBaseThreadInitThunk [0x75F2FA29+25]\n\tRtlGetAppContainerNamedObjectPath [0x770D7A9E+286]\n\tRtlGetAppContainerNamedObjectPath [0x770D7A6E+238]\n"
     ]
    }
   ],
   "source": [
    "#이름(숫자바꾸기)\n",
    "name = driver.find_element_by_css_selector(\"#wrap > div.sub.clearfix > div.cont-wrap > div.contents.cont-brand.border-t > div > ul.img-list.big-img.border-t > li:nth-child(1) > div.text > div > div > h4\")\n",
    "name.text"
   ]
  },
  {
   "cell_type": "code",
   "execution_count": 12,
   "id": "f4271929",
   "metadata": {},
   "outputs": [
    {
     "name": "stderr",
     "output_type": "stream",
     "text": [
      "C:\\Users\\smhrd\\AppData\\Local\\Temp/ipykernel_16308/568711928.py:2: DeprecationWarning: find_element_by_* commands are deprecated. Please use find_element() instead\n",
      "  des = driver.find_element_by_css_selector('#wrap > div.sub.clearfix > div.cont-wrap > div.contents.cont-brand.border-t > div > ul.img-list.big-img.border-t > li:nth-child(2) > div.text > div > div > p:nth-child(2)')\n"
     ]
    },
    {
     "data": {
      "text/plain": [
       "'최고의 노하우와 기술력을 바탕으로 세 가지 홉을 사용하여\\n맥주의 맛을 올리고 독자적인 고 발효 공법을 통해 칼로리는\\n33% 낮췄습니다. 맛과 칼로리를 모두 만족시키는\\n특별한 경험을 통해 부담 없이 일상 속에서 가벼운 즐거움을\\n느끼게 해주는 스마트한 제품입니다.\\n카스 라이트는 오랜 기간 동안 사랑받은 \\n대한민국 대표 라이트 맥주입니다.'"
      ]
     },
     "execution_count": 12,
     "metadata": {},
     "output_type": "execute_result"
    }
   ],
   "source": [
    "#설명(숫자바꾸기\n",
    "des = driver.find_element_by_css_selector('#wrap > div.sub.clearfix > div.cont-wrap > div.contents.cont-brand.border-t > div > ul.img-list.big-img.border-t > li:nth-child(1) > div.text > div > div > p:nth-child(2)')\n",
    "des.text"
   ]
  },
  {
   "cell_type": "code",
   "execution_count": 14,
   "id": "24a282d0",
   "metadata": {},
   "outputs": [
    {
     "name": "stderr",
     "output_type": "stream",
     "text": [
      "C:\\Users\\smhrd\\AppData\\Local\\Temp/ipykernel_16308/1060615100.py:2: DeprecationWarning: find_element_by_* commands are deprecated. Please use find_element() instead\n",
      "  abv = driver.find_element_by_css_selector(\"#wrap > div.sub.clearfix > div.cont-wrap > div.contents.cont-brand.border-t > div > ul.img-list.big-img.border-t > li:nth-child(2) > div.text > div > div > p.comp-table\")\n"
     ]
    },
    {
     "data": {
      "text/plain": [
       "'도수 : 4.0%\\n종류 : Lager (라거)'"
      ]
     },
     "execution_count": 14,
     "metadata": {},
     "output_type": "execute_result"
    }
   ],
   "source": [
    "#도수(숫자바꾸기)\n",
    "abv = driver.find_element_by_css_selector(\"#wrap > div.sub.clearfix > div.cont-wrap > div.contents.cont-brand.border-t > div > ul.img-list.big-img.border-t > li:nth-child(1) > div.text > div > div > p.comp-table\")\n",
    "abv.text"
   ]
  },
  {
   "cell_type": "code",
   "execution_count": 15,
   "id": "1b23503c",
   "metadata": {},
   "outputs": [
    {
     "data": {
      "text/plain": [
       "'https://www.ob.co.kr/assets/images/brands/brands_cass_goods_02.png'"
      ]
     },
     "execution_count": 15,
     "metadata": {},
     "output_type": "execute_result"
    }
   ],
   "source": [
    "#이미지 경로(숫자바꾸기)\n",
    "soup = bs(driver.page_source,\"lxml\")\n",
    "img = soup.select('#wrap > div.sub.clearfix > div.cont-wrap > div.contents.cont-brand.border-t > div > ul.img-list.big-img.border-t > li:nth-child(1) > div.img > img')\n",
    "img = 'https://www.ob.co.kr' + img[0][\"src\"]\n",
    "img"
   ]
  },
  {
   "cell_type": "code",
   "execution_count": null,
   "id": "450ca4e6",
   "metadata": {},
   "outputs": [],
   "source": [
    "#2번째 이름\n",
    "name = driver.find_element_by_css_selector('#wrap > div.sub.clearfix > div.cont-wrap > div.contents.cont-brand.border-t > div > ul.img-list.big-img.border-t > li:nth-child(2) > div.text > div > div > h4')"
   ]
  },
  {
   "cell_type": "code",
   "execution_count": null,
   "id": "51822e80",
   "metadata": {},
   "outputs": [],
   "source": []
  },
  {
   "cell_type": "code",
   "execution_count": null,
   "id": "47d0e18c",
   "metadata": {},
   "outputs": [],
   "source": []
  },
  {
   "cell_type": "code",
   "execution_count": 18,
   "id": "7f4a69b2",
   "metadata": {},
   "outputs": [
    {
     "name": "stderr",
     "output_type": "stream",
     "text": [
      "C:\\Users\\smhrd\\AppData\\Local\\Temp/ipykernel_16308/2822943608.py:2: DeprecationWarning: find_element_by_* commands are deprecated. Please use find_element() instead\n",
      "  name = driver.find_element_by_css_selector('#wrap > div.sub.clearfix > div.cont-wrap > div.sub-title > h3')\n"
     ]
    },
    {
     "data": {
      "text/plain": [
       "'Hanmac'"
      ]
     },
     "execution_count": 18,
     "metadata": {},
     "output_type": "execute_result"
    }
   ],
   "source": [
    "#이름\n",
    "name = driver.find_element_by_css_selector('#wrap > div.sub.clearfix > div.cont-wrap > div.sub-title > h3')\n",
    "name.text"
   ]
  },
  {
   "cell_type": "code",
   "execution_count": 31,
   "id": "13c3bbb8",
   "metadata": {},
   "outputs": [
    {
     "name": "stderr",
     "output_type": "stream",
     "text": [
      "C:\\Users\\smhrd\\AppData\\Local\\Temp/ipykernel_16308/1910618846.py:2: DeprecationWarning: find_element_by_* commands are deprecated. Please use find_element() instead\n",
      "  abv = driver.find_element_by_css_selector('p.txt.comp-table')\n"
     ]
    },
    {
     "data": {
      "text/plain": [
       "'도수 : 5.0%\\n종류 : Lager (라거)'"
      ]
     },
     "execution_count": 31,
     "metadata": {},
     "output_type": "execute_result"
    }
   ],
   "source": [
    "#도수\n",
    "abv = driver.find_element_by_css_selector('p.txt.comp-table')\n",
    "abv.text"
   ]
  },
  {
   "cell_type": "code",
   "execution_count": 37,
   "id": "6a342e63",
   "metadata": {},
   "outputs": [
    {
     "name": "stderr",
     "output_type": "stream",
     "text": [
      "C:\\Users\\smhrd\\AppData\\Local\\Temp/ipykernel_16308/2675610254.py:2: DeprecationWarning: find_element_by_* commands are deprecated. Please use find_element() instead\n",
      "  des = driver.find_element_by_css_selector('p.txt')\n"
     ]
    },
    {
     "data": {
      "text/plain": [
       "'오리지널 벨기에 화이트 에일 맥주 호가든은 1445년 벨기에 비가르덴 지방의 수도원 문화가 최상의 밀을 생산하는 호가든 마을로 전파되면서 탄생한 맥주입니다.\\n호가든 마을 사람들은 자연에서 얻은 최상의 밀을 수확하여 깨끗한 재료를 엄선하여 여과를 거치지 않은 백색의 맥주를 만들어 냈습니다.\\n\\n호가든은 독일의 ‘맥주순수령’과는 달리 약초, 허브, 과일 등을 사용해 다양한 맛의 맥주를 개발한 벨기에 사람들의 창의성과 오랜 정통 기법의 만남으로 탄생한 맥주입니다.\\n밀, 코리엔더 씨드, 오렌지 필을 사용해 매혹적인 오렌지 향과 은은한 향이 특징이고, 특유의 부드럽고 풍성한 맛, 구름 거품, 매혹적인 향을 지닌 맥주입니다.'"
      ]
     },
     "execution_count": 37,
     "metadata": {},
     "output_type": "execute_result"
    }
   ],
   "source": [
    "#설명\n",
    "des = driver.find_element_by_css_selector('p.txt')\n",
    "des.text"
   ]
  },
  {
   "cell_type": "code",
   "execution_count": 25,
   "id": "cfda8a8d",
   "metadata": {},
   "outputs": [
    {
     "ename": "IndexError",
     "evalue": "list index out of range",
     "output_type": "error",
     "traceback": [
      "\u001b[1;31m---------------------------------------------------------------------------\u001b[0m",
      "\u001b[1;31mIndexError\u001b[0m                                Traceback (most recent call last)",
      "\u001b[1;32m~\\AppData\\Local\\Temp/ipykernel_16308/1485627701.py\u001b[0m in \u001b[0;36m<module>\u001b[1;34m\u001b[0m\n\u001b[0;32m      2\u001b[0m \u001b[0msoup\u001b[0m \u001b[1;33m=\u001b[0m \u001b[0mbs\u001b[0m\u001b[1;33m(\u001b[0m\u001b[0mdriver\u001b[0m\u001b[1;33m.\u001b[0m\u001b[0mpage_source\u001b[0m\u001b[1;33m,\u001b[0m\u001b[1;34m\"lxml\"\u001b[0m\u001b[1;33m)\u001b[0m\u001b[1;33m\u001b[0m\u001b[1;33m\u001b[0m\u001b[0m\n\u001b[0;32m      3\u001b[0m \u001b[0mimg\u001b[0m \u001b[1;33m=\u001b[0m \u001b[0msoup\u001b[0m\u001b[1;33m.\u001b[0m\u001b[0mselect\u001b[0m\u001b[1;33m(\u001b[0m\u001b[1;34m'div.good-photo>img'\u001b[0m\u001b[1;33m)\u001b[0m\u001b[1;33m\u001b[0m\u001b[1;33m\u001b[0m\u001b[0m\n\u001b[1;32m----> 4\u001b[1;33m \u001b[0mimg\u001b[0m \u001b[1;33m=\u001b[0m \u001b[1;34m'https://www.ob.co.kr'\u001b[0m \u001b[1;33m+\u001b[0m \u001b[0mimg\u001b[0m\u001b[1;33m[\u001b[0m\u001b[1;36m0\u001b[0m\u001b[1;33m]\u001b[0m\u001b[1;33m[\u001b[0m\u001b[1;34m\"src\"\u001b[0m\u001b[1;33m]\u001b[0m\u001b[1;33m\u001b[0m\u001b[1;33m\u001b[0m\u001b[0m\n\u001b[0m\u001b[0;32m      5\u001b[0m \u001b[0mimg\u001b[0m\u001b[1;33m\u001b[0m\u001b[1;33m\u001b[0m\u001b[0m\n",
      "\u001b[1;31mIndexError\u001b[0m: list index out of range"
     ]
    }
   ],
   "source": [
    "#이미지 경로\n",
    "soup = bs(driver.page_source,\"lxml\")\n",
    "img = soup.select('div.good-photo>img')\n",
    "img = 'https://www.ob.co.kr' + img[0][\"src\"]\n",
    "img"
   ]
  },
  {
   "cell_type": "code",
   "execution_count": 27,
   "id": "47c4ec62",
   "metadata": {},
   "outputs": [],
   "source": []
  }
 ],
 "metadata": {
  "kernelspec": {
   "display_name": "Python 3 (ipykernel)",
   "language": "python",
   "name": "python3"
  },
  "language_info": {
   "codemirror_mode": {
    "name": "ipython",
    "version": 3
   },
   "file_extension": ".py",
   "mimetype": "text/x-python",
   "name": "python",
   "nbconvert_exporter": "python",
   "pygments_lexer": "ipython3",
   "version": "3.9.7"
  }
 },
 "nbformat": 4,
 "nbformat_minor": 5
}
