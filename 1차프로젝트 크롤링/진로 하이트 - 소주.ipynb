{
 "cells": [
  {
   "cell_type": "code",
   "execution_count": 1,
   "id": "0efff35d",
   "metadata": {},
   "outputs": [],
   "source": [
    "from selenium import webdriver as wb\n",
    "from selenium.webdriver.common.keys import Keys\n",
    "import time\n",
    "import random\n",
    "import requests as req\n",
    "from bs4 import BeautifulSoup as bs\n",
    "import re\n",
    "import pandas as pd"
   ]
  },
  {
   "cell_type": "code",
   "execution_count": 43,
   "id": "29159d46",
   "metadata": {},
   "outputs": [],
   "source": [
    "driver = wb.Chrome()\n",
    "driver.maximize_window()\n",
    "time.sleep(random.uniform(2,4))\n",
    "driver.get('https://www.hitejinro.com/brand/view.asp?brandcd2=B01')"
   ]
  },
  {
   "cell_type": "code",
   "execution_count": 62,
   "id": "3b550432",
   "metadata": {},
   "outputs": [
    {
     "name": "stderr",
     "output_type": "stream",
     "text": [
      "C:\\Users\\smhrd\\AppData\\Local\\Temp/ipykernel_11436/2624317571.py:7: DeprecationWarning: find_element_by_* commands are deprecated. Please use find_element() instead\n",
      "  btn = driver.find_element_by_css_selector('#brand_gnb > ul > li.gnb_b.on > div.sub > ul > li:nth-child('+str(i)+') > a > span')\n",
      "C:\\Users\\smhrd\\AppData\\Local\\Temp/ipykernel_11436/2624317571.py:10: DeprecationWarning: find_element_by_* commands are deprecated. Please use find_element() instead\n",
      "  name = driver.find_element_by_css_selector('a.on')\n",
      "C:\\Users\\smhrd\\AppData\\Local\\Temp/ipykernel_11436/2624317571.py:13: DeprecationWarning: find_element_by_* commands are deprecated. Please use find_element() instead\n",
      "  abv = driver.find_element_by_css_selector(\"tr.alcohol\")\n",
      "C:\\Users\\smhrd\\AppData\\Local\\Temp/ipykernel_11436/2624317571.py:19: DeprecationWarning: find_element_by_* commands are deprecated. Please use find_element() instead\n",
      "  des = driver.find_element_by_css_selector(\"tr.feature\")\n",
      "C:\\Users\\smhrd\\AppData\\Local\\Temp/ipykernel_11436/2624317571.py:22: DeprecationWarning: find_element_by_* commands are deprecated. Please use find_element() instead\n",
      "  des = driver.find_element_by_css_selector('tr.desc')\n"
     ]
    }
   ],
   "source": [
    "name_list = [] #이름\n",
    "abv_list = [] #도수\n",
    "des_list = [] #설명\n",
    "img_list = [] #이미지 경로\n",
    "\n",
    "for i in range(1,8):\n",
    "    btn = driver.find_element_by_css_selector('#brand_gnb > ul > li.gnb_b.on > div.sub > ul > li:nth-child('+str(i)+') > a > span')\n",
    "    btn.click()\n",
    "    time.sleep(random.uniform(3,5))\n",
    "    name = driver.find_element_by_css_selector('a.on')\n",
    "    name_list.append(name.text)\n",
    "    try : \n",
    "        abv = driver.find_element_by_css_selector(\"tr.alcohol\")\n",
    "        abv_list.append(abv.text)\n",
    "    except :\n",
    "        abv_list.append(\"none\")\n",
    "    try : \n",
    "        try:\n",
    "            des = driver.find_element_by_css_selector(\"tr.feature\")\n",
    "            des_list.append(des.text)\n",
    "        except:\n",
    "            des = driver.find_element_by_css_selector('tr.desc')\n",
    "            des_list.append(des.text)\n",
    "    except : \n",
    "        des_list.append(\"img\")"
   ]
  },
  {
   "cell_type": "code",
   "execution_count": 65,
   "id": "6164027c",
   "metadata": {
    "scrolled": true
   },
   "outputs": [
    {
     "data": {
      "text/html": [
       "<div>\n",
       "<style scoped>\n",
       "    .dataframe tbody tr th:only-of-type {\n",
       "        vertical-align: middle;\n",
       "    }\n",
       "\n",
       "    .dataframe tbody tr th {\n",
       "        vertical-align: top;\n",
       "    }\n",
       "\n",
       "    .dataframe thead th {\n",
       "        text-align: right;\n",
       "    }\n",
       "</style>\n",
       "<table border=\"1\" class=\"dataframe\">\n",
       "  <thead>\n",
       "    <tr style=\"text-align: right;\">\n",
       "      <th></th>\n",
       "      <th>이름</th>\n",
       "      <th>도수</th>\n",
       "      <th>설명</th>\n",
       "    </tr>\n",
       "  </thead>\n",
       "  <tbody>\n",
       "    <tr>\n",
       "      <th>0</th>\n",
       "      <td>참이슬 fresh</td>\n",
       "      <td>알코올 16.5%</td>\n",
       "      <td>특징 대나무 숯으로 4번 걸러 더 깨끗한 목넘김과\\n이슬형태의 곡선 라벨로 더욱 트...</td>\n",
       "    </tr>\n",
       "    <tr>\n",
       "      <th>1</th>\n",
       "      <td>참이슬 오리지널</td>\n",
       "      <td>알코올 20.1%</td>\n",
       "      <td>특징 대한민국 소주의 정통성을 지켜온 정통소주로서 대나무 숯으로 4번 걸러,\\n숙취...</td>\n",
       "    </tr>\n",
       "    <tr>\n",
       "      <th>2</th>\n",
       "      <td>진로</td>\n",
       "      <td>알코올 16.5%</td>\n",
       "      <td>특징 진로만이 가지고 있는 No.1 헤리티지를 재해석하여 스카이 블루 색상의 병과\\...</td>\n",
       "    </tr>\n",
       "    <tr>\n",
       "      <th>3</th>\n",
       "      <td>일품진로</td>\n",
       "      <td>알코올 25%</td>\n",
       "      <td>특징 증류의 처음과 마지막에 나오는 원액은 과감히 버리고 향과 풍미가 뛰어난 중간 ...</td>\n",
       "    </tr>\n",
       "    <tr>\n",
       "      <th>4</th>\n",
       "      <td>일품진로 21년 산</td>\n",
       "      <td>none</td>\n",
       "      <td>img</td>\n",
       "    </tr>\n",
       "    <tr>\n",
       "      <th>5</th>\n",
       "      <td>진로골드</td>\n",
       "      <td>알코올 25%</td>\n",
       "      <td>특징 초정밀 여과처리로 깨끗한 맛!\\n90여년의 노하우로 블렌딩 한 정통 소주</td>\n",
       "    </tr>\n",
       "    <tr>\n",
       "      <th>6</th>\n",
       "      <td>참이슬 담금주</td>\n",
       "      <td>알코올 25%</td>\n",
       "      <td></td>\n",
       "    </tr>\n",
       "  </tbody>\n",
       "</table>\n",
       "</div>"
      ],
      "text/plain": [
       "           이름         도수                                                 설명\n",
       "0   참이슬 fresh  알코올 16.5%  특징 대나무 숯으로 4번 걸러 더 깨끗한 목넘김과\\n이슬형태의 곡선 라벨로 더욱 트...\n",
       "1    참이슬 오리지널  알코올 20.1%  특징 대한민국 소주의 정통성을 지켜온 정통소주로서 대나무 숯으로 4번 걸러,\\n숙취...\n",
       "2          진로  알코올 16.5%  특징 진로만이 가지고 있는 No.1 헤리티지를 재해석하여 스카이 블루 색상의 병과\\...\n",
       "3        일품진로    알코올 25%  특징 증류의 처음과 마지막에 나오는 원액은 과감히 버리고 향과 풍미가 뛰어난 중간 ...\n",
       "4  일품진로 21년 산       none                                                img\n",
       "5        진로골드    알코올 25%        특징 초정밀 여과처리로 깨끗한 맛!\\n90여년의 노하우로 블렌딩 한 정통 소주\n",
       "6     참이슬 담금주    알코올 25%                                                   "
      ]
     },
     "execution_count": 65,
     "metadata": {},
     "output_type": "execute_result"
    }
   ],
   "source": [
    "dic = {\"이름\" : name_list, \"도수\" : abv_list, \"설명\" : des_list}\n",
    "fin = pd.DataFrame(dic)\n",
    "fin"
   ]
  },
  {
   "cell_type": "code",
   "execution_count": 66,
   "id": "7b575eb8",
   "metadata": {},
   "outputs": [],
   "source": [
    "fin.to_csv(\"진로하이트 - 소주.csv\", encoding=\"utf-8-sig\")"
   ]
  },
  {
   "cell_type": "code",
   "execution_count": 42,
   "id": "035c34f4",
   "metadata": {},
   "outputs": [
    {
     "name": "stderr",
     "output_type": "stream",
     "text": [
      "C:\\Users\\smhrd\\AppData\\Local\\Temp/ipykernel_11436/761700164.py:2: DeprecationWarning: find_element_by_* commands are deprecated. Please use find_element() instead\n",
      "  btn = driver.find_element_by_css_selector('#brand_gnb > ul > li.gnb_b.on > div.sub > ul > li:nth-child(1) > a > span')\n"
     ]
    }
   ],
   "source": [
    "#이동\n",
    "btn = driver.find_element_by_css_selector('#brand_gnb > ul > li.gnb_b.on > div.sub > ul > li:nth-child(1) > a > span')\n",
    "btn = driver.find_element_by_css_selector('#brand_gnb > ul > li.gnb_b.on > div.sub > ul > li:nth-child(7) > a > span')\n",
    "btn.click()"
   ]
  },
  {
   "cell_type": "code",
   "execution_count": 35,
   "id": "8ec92e9a",
   "metadata": {},
   "outputs": [
    {
     "name": "stderr",
     "output_type": "stream",
     "text": [
      "C:\\Users\\smhrd\\AppData\\Local\\Temp/ipykernel_11436/4262835368.py:3: DeprecationWarning: find_element_by_* commands are deprecated. Please use find_element() instead\n",
      "  name = driver.find_element_by_css_selector('a.on')\n"
     ]
    },
    {
     "data": {
      "text/plain": [
       "'진로'"
      ]
     },
     "execution_count": 35,
     "metadata": {},
     "output_type": "execute_result"
    }
   ],
   "source": [
    "#이름\n",
    "# name = driver.find_element_by_css_selector(\"#brand_gnb > ul > li.gnb_b.on > div.sub > ul > li:nth-child(1) > a > span\")\n",
    "name = driver.find_element_by_css_selector('a.on')\n",
    "name.text"
   ]
  },
  {
   "cell_type": "code",
   "execution_count": 22,
   "id": "467f04ac",
   "metadata": {},
   "outputs": [
    {
     "name": "stderr",
     "output_type": "stream",
     "text": [
      "C:\\Users\\smhrd\\AppData\\Local\\Temp/ipykernel_11436/2865705957.py:2: DeprecationWarning: find_element_by_* commands are deprecated. Please use find_element() instead\n",
      "  abv = driver.find_element_by_css_selector(\"tr.alcohol\")\n"
     ]
    },
    {
     "data": {
      "text/plain": [
       "'알코올 4.6%'"
      ]
     },
     "execution_count": 22,
     "metadata": {},
     "output_type": "execute_result"
    }
   ],
   "source": [
    "#도수\n",
    "abv = driver.find_element_by_css_selector(\"tr.alcohol\")\n",
    "abv.text"
   ]
  },
  {
   "cell_type": "code",
   "execution_count": 23,
   "id": "d318d0aa",
   "metadata": {
    "collapsed": true
   },
   "outputs": [
    {
     "name": "stderr",
     "output_type": "stream",
     "text": [
      "C:\\Users\\smhrd\\AppData\\Local\\Temp/ipykernel_11436/4175227371.py:2: DeprecationWarning: find_element_by_* commands are deprecated. Please use find_element() instead\n",
      "  des = driver.find_element_by_css_selector(\"tr.feature\")\n"
     ]
    },
    {
     "ename": "NoSuchElementException",
     "evalue": "Message: no such element: Unable to locate element: {\"method\":\"css selector\",\"selector\":\"tr.feature\"}\n  (Session info: chrome=98.0.4758.82)\nStacktrace:\nBacktrace:\n\tOrdinal0 [0x00C97AC3+2587331]\n\tOrdinal0 [0x00C2ADD1+2141649]\n\tOrdinal0 [0x00B23BB8+1063864]\n\tOrdinal0 [0x00B501CE+1245646]\n\tOrdinal0 [0x00B503CB+1246155]\n\tOrdinal0 [0x00B7A612+1418770]\n\tOrdinal0 [0x00B686D4+1345236]\n\tOrdinal0 [0x00B78A0A+1411594]\n\tOrdinal0 [0x00B684A6+1344678]\n\tOrdinal0 [0x00B453F6+1201142]\n\tOrdinal0 [0x00B462E6+1204966]\n\tGetHandleVerifier [0x00E3DF22+1680738]\n\tGetHandleVerifier [0x00EF0DBC+2413564]\n\tGetHandleVerifier [0x00D2D151+563089]\n\tGetHandleVerifier [0x00D2BF13+558419]\n\tOrdinal0 [0x00C3081E+2164766]\n\tOrdinal0 [0x00C35508+2184456]\n\tOrdinal0 [0x00C35650+2184784]\n\tOrdinal0 [0x00C3F5BC+2225596]\n\tBaseThreadInitThunk [0x75F2FA29+25]\n\tRtlGetAppContainerNamedObjectPath [0x770D7A9E+286]\n\tRtlGetAppContainerNamedObjectPath [0x770D7A6E+238]\n",
     "output_type": "error",
     "traceback": [
      "\u001b[1;31m---------------------------------------------------------------------------\u001b[0m",
      "\u001b[1;31mNoSuchElementException\u001b[0m                    Traceback (most recent call last)",
      "\u001b[1;32m~\\AppData\\Local\\Temp/ipykernel_11436/4175227371.py\u001b[0m in \u001b[0;36m<module>\u001b[1;34m\u001b[0m\n\u001b[0;32m      1\u001b[0m \u001b[1;31m#설명\u001b[0m\u001b[1;33m\u001b[0m\u001b[1;33m\u001b[0m\u001b[0m\n\u001b[1;32m----> 2\u001b[1;33m \u001b[0mdes\u001b[0m \u001b[1;33m=\u001b[0m \u001b[0mdriver\u001b[0m\u001b[1;33m.\u001b[0m\u001b[0mfind_element_by_css_selector\u001b[0m\u001b[1;33m(\u001b[0m\u001b[1;34m\"tr.feature\"\u001b[0m\u001b[1;33m)\u001b[0m\u001b[1;33m\u001b[0m\u001b[1;33m\u001b[0m\u001b[0m\n\u001b[0m\u001b[0;32m      3\u001b[0m \u001b[0mdes\u001b[0m\u001b[1;33m.\u001b[0m\u001b[0mtext\u001b[0m\u001b[1;33m\u001b[0m\u001b[1;33m\u001b[0m\u001b[0m\n",
      "\u001b[1;32m~\\anaconda3\\lib\\site-packages\\selenium\\webdriver\\remote\\webdriver.py\u001b[0m in \u001b[0;36mfind_element_by_css_selector\u001b[1;34m(self, css_selector)\u001b[0m\n\u001b[0;32m    806\u001b[0m             \u001b[0mstacklevel\u001b[0m\u001b[1;33m=\u001b[0m\u001b[1;36m2\u001b[0m\u001b[1;33m,\u001b[0m\u001b[1;33m\u001b[0m\u001b[1;33m\u001b[0m\u001b[0m\n\u001b[0;32m    807\u001b[0m         )\n\u001b[1;32m--> 808\u001b[1;33m         \u001b[1;32mreturn\u001b[0m \u001b[0mself\u001b[0m\u001b[1;33m.\u001b[0m\u001b[0mfind_element\u001b[0m\u001b[1;33m(\u001b[0m\u001b[0mby\u001b[0m\u001b[1;33m=\u001b[0m\u001b[0mBy\u001b[0m\u001b[1;33m.\u001b[0m\u001b[0mCSS_SELECTOR\u001b[0m\u001b[1;33m,\u001b[0m \u001b[0mvalue\u001b[0m\u001b[1;33m=\u001b[0m\u001b[0mcss_selector\u001b[0m\u001b[1;33m)\u001b[0m\u001b[1;33m\u001b[0m\u001b[1;33m\u001b[0m\u001b[0m\n\u001b[0m\u001b[0;32m    809\u001b[0m \u001b[1;33m\u001b[0m\u001b[0m\n\u001b[0;32m    810\u001b[0m     \u001b[1;32mdef\u001b[0m \u001b[0mfind_elements_by_css_selector\u001b[0m\u001b[1;33m(\u001b[0m\u001b[0mself\u001b[0m\u001b[1;33m,\u001b[0m \u001b[0mcss_selector\u001b[0m\u001b[1;33m)\u001b[0m \u001b[1;33m->\u001b[0m \u001b[0mWebElement\u001b[0m\u001b[1;33m:\u001b[0m\u001b[1;33m\u001b[0m\u001b[1;33m\u001b[0m\u001b[0m\n",
      "\u001b[1;32m~\\anaconda3\\lib\\site-packages\\selenium\\webdriver\\remote\\webdriver.py\u001b[0m in \u001b[0;36mfind_element\u001b[1;34m(self, by, value)\u001b[0m\n\u001b[0;32m   1242\u001b[0m             \u001b[0mvalue\u001b[0m \u001b[1;33m=\u001b[0m \u001b[1;34m'[name=\"%s\"]'\u001b[0m \u001b[1;33m%\u001b[0m \u001b[0mvalue\u001b[0m\u001b[1;33m\u001b[0m\u001b[1;33m\u001b[0m\u001b[0m\n\u001b[0;32m   1243\u001b[0m \u001b[1;33m\u001b[0m\u001b[0m\n\u001b[1;32m-> 1244\u001b[1;33m         return self.execute(Command.FIND_ELEMENT, {\n\u001b[0m\u001b[0;32m   1245\u001b[0m             \u001b[1;34m'using'\u001b[0m\u001b[1;33m:\u001b[0m \u001b[0mby\u001b[0m\u001b[1;33m,\u001b[0m\u001b[1;33m\u001b[0m\u001b[1;33m\u001b[0m\u001b[0m\n\u001b[0;32m   1246\u001b[0m             'value': value})['value']\n",
      "\u001b[1;32m~\\anaconda3\\lib\\site-packages\\selenium\\webdriver\\remote\\webdriver.py\u001b[0m in \u001b[0;36mexecute\u001b[1;34m(self, driver_command, params)\u001b[0m\n\u001b[0;32m    422\u001b[0m         \u001b[0mresponse\u001b[0m \u001b[1;33m=\u001b[0m \u001b[0mself\u001b[0m\u001b[1;33m.\u001b[0m\u001b[0mcommand_executor\u001b[0m\u001b[1;33m.\u001b[0m\u001b[0mexecute\u001b[0m\u001b[1;33m(\u001b[0m\u001b[0mdriver_command\u001b[0m\u001b[1;33m,\u001b[0m \u001b[0mparams\u001b[0m\u001b[1;33m)\u001b[0m\u001b[1;33m\u001b[0m\u001b[1;33m\u001b[0m\u001b[0m\n\u001b[0;32m    423\u001b[0m         \u001b[1;32mif\u001b[0m \u001b[0mresponse\u001b[0m\u001b[1;33m:\u001b[0m\u001b[1;33m\u001b[0m\u001b[1;33m\u001b[0m\u001b[0m\n\u001b[1;32m--> 424\u001b[1;33m             \u001b[0mself\u001b[0m\u001b[1;33m.\u001b[0m\u001b[0merror_handler\u001b[0m\u001b[1;33m.\u001b[0m\u001b[0mcheck_response\u001b[0m\u001b[1;33m(\u001b[0m\u001b[0mresponse\u001b[0m\u001b[1;33m)\u001b[0m\u001b[1;33m\u001b[0m\u001b[1;33m\u001b[0m\u001b[0m\n\u001b[0m\u001b[0;32m    425\u001b[0m             response['value'] = self._unwrap_value(\n\u001b[0;32m    426\u001b[0m                 response.get('value', None))\n",
      "\u001b[1;32m~\\anaconda3\\lib\\site-packages\\selenium\\webdriver\\remote\\errorhandler.py\u001b[0m in \u001b[0;36mcheck_response\u001b[1;34m(self, response)\u001b[0m\n\u001b[0;32m    245\u001b[0m                 \u001b[0malert_text\u001b[0m \u001b[1;33m=\u001b[0m \u001b[0mvalue\u001b[0m\u001b[1;33m[\u001b[0m\u001b[1;34m'alert'\u001b[0m\u001b[1;33m]\u001b[0m\u001b[1;33m.\u001b[0m\u001b[0mget\u001b[0m\u001b[1;33m(\u001b[0m\u001b[1;34m'text'\u001b[0m\u001b[1;33m)\u001b[0m\u001b[1;33m\u001b[0m\u001b[1;33m\u001b[0m\u001b[0m\n\u001b[0;32m    246\u001b[0m             \u001b[1;32mraise\u001b[0m \u001b[0mexception_class\u001b[0m\u001b[1;33m(\u001b[0m\u001b[0mmessage\u001b[0m\u001b[1;33m,\u001b[0m \u001b[0mscreen\u001b[0m\u001b[1;33m,\u001b[0m \u001b[0mstacktrace\u001b[0m\u001b[1;33m,\u001b[0m \u001b[0malert_text\u001b[0m\u001b[1;33m)\u001b[0m  \u001b[1;31m# type: ignore[call-arg]  # mypy is not smart enough here\u001b[0m\u001b[1;33m\u001b[0m\u001b[1;33m\u001b[0m\u001b[0m\n\u001b[1;32m--> 247\u001b[1;33m         \u001b[1;32mraise\u001b[0m \u001b[0mexception_class\u001b[0m\u001b[1;33m(\u001b[0m\u001b[0mmessage\u001b[0m\u001b[1;33m,\u001b[0m \u001b[0mscreen\u001b[0m\u001b[1;33m,\u001b[0m \u001b[0mstacktrace\u001b[0m\u001b[1;33m)\u001b[0m\u001b[1;33m\u001b[0m\u001b[1;33m\u001b[0m\u001b[0m\n\u001b[0m\u001b[0;32m    248\u001b[0m \u001b[1;33m\u001b[0m\u001b[0m\n\u001b[0;32m    249\u001b[0m     \u001b[1;32mdef\u001b[0m \u001b[0m_value_or_default\u001b[0m\u001b[1;33m(\u001b[0m\u001b[0mself\u001b[0m\u001b[1;33m,\u001b[0m \u001b[0mobj\u001b[0m\u001b[1;33m:\u001b[0m \u001b[0mMapping\u001b[0m\u001b[1;33m[\u001b[0m\u001b[0m_KT\u001b[0m\u001b[1;33m,\u001b[0m \u001b[0m_VT\u001b[0m\u001b[1;33m]\u001b[0m\u001b[1;33m,\u001b[0m \u001b[0mkey\u001b[0m\u001b[1;33m:\u001b[0m \u001b[0m_KT\u001b[0m\u001b[1;33m,\u001b[0m \u001b[0mdefault\u001b[0m\u001b[1;33m:\u001b[0m \u001b[0m_VT\u001b[0m\u001b[1;33m)\u001b[0m \u001b[1;33m->\u001b[0m \u001b[0m_VT\u001b[0m\u001b[1;33m:\u001b[0m\u001b[1;33m\u001b[0m\u001b[1;33m\u001b[0m\u001b[0m\n",
      "\u001b[1;31mNoSuchElementException\u001b[0m: Message: no such element: Unable to locate element: {\"method\":\"css selector\",\"selector\":\"tr.feature\"}\n  (Session info: chrome=98.0.4758.82)\nStacktrace:\nBacktrace:\n\tOrdinal0 [0x00C97AC3+2587331]\n\tOrdinal0 [0x00C2ADD1+2141649]\n\tOrdinal0 [0x00B23BB8+1063864]\n\tOrdinal0 [0x00B501CE+1245646]\n\tOrdinal0 [0x00B503CB+1246155]\n\tOrdinal0 [0x00B7A612+1418770]\n\tOrdinal0 [0x00B686D4+1345236]\n\tOrdinal0 [0x00B78A0A+1411594]\n\tOrdinal0 [0x00B684A6+1344678]\n\tOrdinal0 [0x00B453F6+1201142]\n\tOrdinal0 [0x00B462E6+1204966]\n\tGetHandleVerifier [0x00E3DF22+1680738]\n\tGetHandleVerifier [0x00EF0DBC+2413564]\n\tGetHandleVerifier [0x00D2D151+563089]\n\tGetHandleVerifier [0x00D2BF13+558419]\n\tOrdinal0 [0x00C3081E+2164766]\n\tOrdinal0 [0x00C35508+2184456]\n\tOrdinal0 [0x00C35650+2184784]\n\tOrdinal0 [0x00C3F5BC+2225596]\n\tBaseThreadInitThunk [0x75F2FA29+25]\n\tRtlGetAppContainerNamedObjectPath [0x770D7A9E+286]\n\tRtlGetAppContainerNamedObjectPath [0x770D7A6E+238]\n"
     ]
    }
   ],
   "source": [
    "#설명\n",
    "des = driver.find_element_by_css_selector(\"tr.feature\")\n",
    "des.text"
   ]
  },
  {
   "cell_type": "code",
   "execution_count": null,
   "id": "f4f3077b",
   "metadata": {},
   "outputs": [],
   "source": []
  }
 ],
 "metadata": {
  "kernelspec": {
   "display_name": "Python 3 (ipykernel)",
   "language": "python",
   "name": "python3"
  },
  "language_info": {
   "codemirror_mode": {
    "name": "ipython",
    "version": 3
   },
   "file_extension": ".py",
   "mimetype": "text/x-python",
   "name": "python",
   "nbconvert_exporter": "python",
   "pygments_lexer": "ipython3",
   "version": "3.9.7"
  }
 },
 "nbformat": 4,
 "nbformat_minor": 5
}
