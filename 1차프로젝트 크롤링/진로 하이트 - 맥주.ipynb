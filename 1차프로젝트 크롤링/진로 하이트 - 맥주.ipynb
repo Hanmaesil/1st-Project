{
 "cells": [
  {
   "cell_type": "code",
   "execution_count": 1,
   "id": "1cdeab1c",
   "metadata": {},
   "outputs": [],
   "source": [
    "from selenium import webdriver as wb\n",
    "from selenium.webdriver.common.keys import Keys\n",
    "import time\n",
    "import random\n",
    "import requests as req\n",
    "from bs4 import BeautifulSoup as bs\n",
    "import re\n",
    "import pandas as pd"
   ]
  },
  {
   "cell_type": "code",
   "execution_count": 4,
   "id": "2db55a04",
   "metadata": {},
   "outputs": [],
   "source": [
    "driver = wb.Chrome()\n",
    "driver.maximize_window()\n",
    "time.sleep(random.uniform(2,4))\n",
    "driver.get('https://www.hitejinro.com/brand/view.asp?brandcd2=A10')"
   ]
  },
  {
   "cell_type": "code",
   "execution_count": 6,
   "id": "e35b1e79",
   "metadata": {},
   "outputs": [
    {
     "name": "stderr",
     "output_type": "stream",
     "text": [
      "C:\\Users\\smhrd\\AppData\\Local\\Temp/ipykernel_5580/3956744726.py:7: DeprecationWarning: find_element_by_* commands are deprecated. Please use find_element() instead\n",
      "  btn = driver.find_element_by_css_selector('#brand_gnb > ul > li.gnb_a.on > div.sub > ul > li:nth-child('+str(i)+') > a > span')\n",
      "C:\\Users\\smhrd\\AppData\\Local\\Temp/ipykernel_5580/3956744726.py:10: DeprecationWarning: find_element_by_* commands are deprecated. Please use find_element() instead\n",
      "  name = driver.find_element_by_css_selector('a.on')\n",
      "C:\\Users\\smhrd\\AppData\\Local\\Temp/ipykernel_5580/3956744726.py:13: DeprecationWarning: find_element_by_* commands are deprecated. Please use find_element() instead\n",
      "  abv = driver.find_element_by_css_selector(\"tr.alcohol\")\n",
      "C:\\Users\\smhrd\\AppData\\Local\\Temp/ipykernel_5580/3956744726.py:19: DeprecationWarning: find_element_by_* commands are deprecated. Please use find_element() instead\n",
      "  des = driver.find_element_by_css_selector(\"tr.feature\")\n",
      "C:\\Users\\smhrd\\AppData\\Local\\Temp/ipykernel_5580/3956744726.py:22: DeprecationWarning: find_element_by_* commands are deprecated. Please use find_element() instead\n",
      "  des = driver.find_element_by_css_selector('tr.desc')\n"
     ]
    }
   ],
   "source": [
    "name_list = [] #이름\n",
    "abv_list = [] #도수\n",
    "des_list = [] #설명\n",
    "img_list = [] #이미지 경로\n",
    "\n",
    "for i in range(1,6):\n",
    "    btn = driver.find_element_by_css_selector('#brand_gnb > ul > li.gnb_a.on > div.sub > ul > li:nth-child('+str(i)+') > a > span')\n",
    "    btn.click()\n",
    "    time.sleep(random.uniform(3,5))\n",
    "    name = driver.find_element_by_css_selector('a.on')\n",
    "    name_list.append(name.text)\n",
    "    try : \n",
    "        abv = driver.find_element_by_css_selector(\"tr.alcohol\")\n",
    "        abv_list.append(abv.text)\n",
    "    except :\n",
    "        abv_list.append(\"none\")\n",
    "    try : \n",
    "        try:\n",
    "            des = driver.find_element_by_css_selector(\"tr.feature\")\n",
    "            des_list.append(des.text)\n",
    "        except:\n",
    "            des = driver.find_element_by_css_selector('tr.desc')\n",
    "            des_list.append(des.text)\n",
    "    except : \n",
    "        des_list.append(\"img\")"
   ]
  },
  {
   "cell_type": "code",
   "execution_count": 7,
   "id": "0a19f1e9",
   "metadata": {},
   "outputs": [
    {
     "data": {
      "text/html": [
       "<div>\n",
       "<style scoped>\n",
       "    .dataframe tbody tr th:only-of-type {\n",
       "        vertical-align: middle;\n",
       "    }\n",
       "\n",
       "    .dataframe tbody tr th {\n",
       "        vertical-align: top;\n",
       "    }\n",
       "\n",
       "    .dataframe thead th {\n",
       "        text-align: right;\n",
       "    }\n",
       "</style>\n",
       "<table border=\"1\" class=\"dataframe\">\n",
       "  <thead>\n",
       "    <tr style=\"text-align: right;\">\n",
       "      <th></th>\n",
       "      <th>이름</th>\n",
       "      <th>도수</th>\n",
       "      <th>설명</th>\n",
       "    </tr>\n",
       "  </thead>\n",
       "  <tbody>\n",
       "    <tr>\n",
       "      <th>0</th>\n",
       "      <td>TERRA</td>\n",
       "      <td>알코올 4.6%</td>\n",
       "      <td>특징 청정맥아 100%, 리얼탄산 100% 테라는 세계 공기질 부문 1위 호주에서 ...</td>\n",
       "    </tr>\n",
       "    <tr>\n",
       "      <th>1</th>\n",
       "      <td>하이트</td>\n",
       "      <td>알콜 4.5%</td>\n",
       "      <td>특징 숙성에서부터 여과까지 생산 전 공정을 맥주가 얼기 직전, 영하의 온도에서 제조...</td>\n",
       "    </tr>\n",
       "    <tr>\n",
       "      <th>2</th>\n",
       "      <td>맥스</td>\n",
       "      <td>알코올 4.5%</td>\n",
       "      <td>특징 국내 최초 All Malt Beer로서, 크리미한 맥주 거품과 All Malt...</td>\n",
       "    </tr>\n",
       "    <tr>\n",
       "      <th>3</th>\n",
       "      <td>에스</td>\n",
       "      <td>알코올 3.8%</td>\n",
       "      <td>특징 1/3 더 낮아진 칼로리로 탄생한 Premium Light Beer! 부드러운...</td>\n",
       "    </tr>\n",
       "    <tr>\n",
       "      <th>4</th>\n",
       "      <td>스타우트</td>\n",
       "      <td>알코올 5%</td>\n",
       "      <td>Description 누구나 가볍게 즐길 수 있는 부드럽고 깔끔한\\n라거타입 흑맥주...</td>\n",
       "    </tr>\n",
       "  </tbody>\n",
       "</table>\n",
       "</div>"
      ],
      "text/plain": [
       "      이름        도수                                                 설명\n",
       "0  TERRA  알코올 4.6%  특징 청정맥아 100%, 리얼탄산 100% 테라는 세계 공기질 부문 1위 호주에서 ...\n",
       "1    하이트   알콜 4.5%  특징 숙성에서부터 여과까지 생산 전 공정을 맥주가 얼기 직전, 영하의 온도에서 제조...\n",
       "2     맥스  알코올 4.5%  특징 국내 최초 All Malt Beer로서, 크리미한 맥주 거품과 All Malt...\n",
       "3     에스  알코올 3.8%  특징 1/3 더 낮아진 칼로리로 탄생한 Premium Light Beer! 부드러운...\n",
       "4   스타우트    알코올 5%  Description 누구나 가볍게 즐길 수 있는 부드럽고 깔끔한\\n라거타입 흑맥주..."
      ]
     },
     "execution_count": 7,
     "metadata": {},
     "output_type": "execute_result"
    }
   ],
   "source": [
    "dic = {\"이름\" : name_list, \"도수\" : abv_list, \"설명\" : des_list}\n",
    "fin = pd.DataFrame(dic)\n",
    "fin"
   ]
  },
  {
   "cell_type": "code",
   "execution_count": 8,
   "id": "406d8a22",
   "metadata": {},
   "outputs": [],
   "source": [
    "fin.to_csv(\"진로하이트 - 맥주.csv\", encoding=\"utf-8-sig\")"
   ]
  }
 ],
 "metadata": {
  "kernelspec": {
   "display_name": "Python 3 (ipykernel)",
   "language": "python",
   "name": "python3"
  },
  "language_info": {
   "codemirror_mode": {
    "name": "ipython",
    "version": 3
   },
   "file_extension": ".py",
   "mimetype": "text/x-python",
   "name": "python",
   "nbconvert_exporter": "python",
   "pygments_lexer": "ipython3",
   "version": "3.9.7"
  }
 },
 "nbformat": 4,
 "nbformat_minor": 5
}
