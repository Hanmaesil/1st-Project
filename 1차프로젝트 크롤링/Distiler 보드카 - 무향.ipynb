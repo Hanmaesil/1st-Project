{
 "cells": [
  {
   "cell_type": "code",
   "execution_count": null,
   "id": "80564649",
   "metadata": {},
   "outputs": [],
   "source": [
    "from selenium import webdriver as wb\n",
    "from selenium.webdriver.common.keys import Keys\n",
    "import time\n",
    "import requests as req\n",
    "from bs4 import BeautifulSoup as bs\n",
    "import re\n",
    "import pandas as pd"
   ]
  },
  {
   "cell_type": "code",
   "execution_count": null,
   "id": "a53d63d1",
   "metadata": {},
   "outputs": [],
   "source": [
    "pattern = re.compile('url\\((.*?)\\)') \n",
    "name_list = [] #이름\n",
    "score_list = [] #별점\n",
    "abv_list = [] #도수\n",
    "des_list = [] #설명\n",
    "taste_list = [] #맛, 향\n",
    "img_list = [] # 이미지\n",
    "num_list = [] #순서\n",
    "num = 0\n",
    "\n",
    "driver = wb.Chrome()\n",
    "time.sleep(2)\n",
    "# driver.get(\"https://distiller.com/search?page=3&sort=total_num_of_ratings&spirit_style_id=123\")\n",
    "# time.sleep(2)\n",
    "\n",
    "\n",
    "\n",
    "for j in range(1,75):\n",
    "    driver.get('https://distiller.com/search?page='+str(j)+'&sort=total_num_of_ratings&spirit_style_id=123')\n",
    "    time.sleep(2)\n",
    "    for i in range(10) :\n",
    "        try:\n",
    "            btn = driver.find_elements_by_class_name(\"name\")\n",
    "            btn[i].click()\n",
    "            time.sleep(2)\n",
    "            name = driver.find_element_by_css_selector(\"span.secondary-headline.name\")\n",
    "            name_list.append(name.text)\n",
    "            try:\n",
    "                score = driver.find_element_by_css_selector(\"#main-content > div > div.spirit-show.center-column.js-carousel.vodka-content > div.primary-content > div.tabs > div > div > div.stats-container > div > div > div > div > div.rating-display__value.average-rating > span\")\n",
    "                score_list.append(score.text)\n",
    "            except:\n",
    "                score_list.append(\"none\")\n",
    "            abv = driver.find_element_by_css_selector(\"#main-content > div > div.spirit-show.center-column.js-carousel.vodka-content > div.primary-content > div.tabs > div > div > div.spirit-show__description-container > div.other-details-container > ul > div > li.detail.abv > div.value\")\n",
    "            abv_list.append(abv.text)\n",
    "            des = driver.find_element_by_css_selector(\"#main-content > div > div.spirit-show.center-column.js-carousel.vodka-content > div.primary-content > div.tabs > div > div > div.spirit-show__description-container > div.other-details-container > ul > li.detail.whiskey-style > div.value\")\n",
    "            des_list.append(des.text)\n",
    "            try :\n",
    "                canvasTemp=driver.find_element_by_css_selector(\".js-flavor-profile-chart\")\n",
    "                taste_list.append(canvasTemp.get_attribute('data-flavors'))\n",
    "            except :\n",
    "                taste_list.append(\"none\")\n",
    "                print(\"오류\")\n",
    "            url = driver.current_url\n",
    "            res = req.get(url)\n",
    "            found = re.search(pattern,res.text)\n",
    "            img_list.append(found.group(1))\n",
    "            num_list.append(num+1)\n",
    "            num = num + 1\n",
    "            driver.back()\n",
    "            time.sleep(2)\n",
    "        except:\n",
    "            body = driver.find_element_by_css_selector(\"body\")\n",
    "            body.send_keys(Keys.ARROW_DOWN)\n",
    "            body.send_keys(Keys.ARROW_DOWN)\n",
    "            body.send_keys(Keys.ARROW_DOWN)\n",
    "            body.send_keys(Keys.ARROW_DOWN)\n",
    "            body.send_keys(Keys.ARROW_DOWN)\n",
    "            body.send_keys(Keys.ARROW_DOWN)\n",
    "            body.send_keys(Keys.ARROW_DOWN)\n",
    "            body.send_keys(Keys.ARROW_DOWN)\n",
    "            body.send_keys(Keys.ARROW_DOWN)\n",
    "            body.send_keys(Keys.ARROW_DOWN)\n",
    "            body.send_keys(Keys.ARROW_DOWN)\n",
    "            body.send_keys(Keys.ARROW_DOWN)\n",
    "            body.send_keys(Keys.ARROW_DOWN)\n",
    "            body.send_keys(Keys.ARROW_DOWN)#\n",
    "            body.send_keys(Keys.ARROW_DOWN)\n",
    "            print(\"다운\")\n",
    "        \n",
    "    \n",
    "dic = {\"순서\" : num_list,\"상품명\" : name_list, \"별점\" : score_list, \"도수\" : abv_list, \"설명\" : des_list, \"맛과향\" : taste_list, \"이미지\" : img_list}\n",
    "fin = pd.DataFrame(dic)"
   ]
  },
  {
   "cell_type": "code",
   "execution_count": null,
   "id": "3937a177",
   "metadata": {},
   "outputs": [],
   "source": [
    "fin.to_csv(\"distiller-무향보드카.csv\", encoding=\"utf-8-sig\")"
   ]
  },
  {
   "cell_type": "code",
   "execution_count": null,
   "id": "fe9f26b6",
   "metadata": {},
   "outputs": [],
   "source": []
  },
  {
   "cell_type": "code",
   "execution_count": null,
   "id": "523e182c",
   "metadata": {},
   "outputs": [],
   "source": []
  },
  {
   "cell_type": "code",
   "execution_count": null,
   "id": "587d676e",
   "metadata": {},
   "outputs": [],
   "source": []
  }
 ],
 "metadata": {
  "kernelspec": {
   "display_name": "Python 3 (ipykernel)",
   "language": "python",
   "name": "python3"
  },
  "language_info": {
   "codemirror_mode": {
    "name": "ipython",
    "version": 3
   },
   "file_extension": ".py",
   "mimetype": "text/x-python",
   "name": "python",
   "nbconvert_exporter": "python",
   "pygments_lexer": "ipython3",
   "version": "3.9.7"
  }
 },
 "nbformat": 4,
 "nbformat_minor": 5
}
