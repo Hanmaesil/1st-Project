{
 "cells": [
  {
   "cell_type": "code",
   "execution_count": 1,
   "id": "2d251ed6",
   "metadata": {},
   "outputs": [],
   "source": [
    "from selenium import webdriver as wb\n",
    "from selenium.webdriver.common.keys import Keys\n",
    "import time\n",
    "import random\n",
    "import requests as req\n",
    "from bs4 import BeautifulSoup as bs\n",
    "import re\n",
    "import pandas as pd"
   ]
  },
  {
   "cell_type": "code",
   "execution_count": null,
   "id": "bacc8a95",
   "metadata": {},
   "outputs": [],
   "source": [
    "time.sleep(random.uniform(2,4))"
   ]
  },
  {
   "cell_type": "code",
   "execution_count": 36,
   "id": "2624cfe6",
   "metadata": {},
   "outputs": [
    {
     "name": "stderr",
     "output_type": "stream",
     "text": [
      "C:\\Users\\smhrd\\AppData\\Local\\Temp/ipykernel_7544/36363940.py:19: DeprecationWarning: find_elements_by_* commands are deprecated. Please use find_elements() instead\n",
      "  btn = driver.find_elements_by_class_name(\"name\")\n",
      "C:\\Users\\smhrd\\AppData\\Local\\Temp/ipykernel_7544/36363940.py:22: DeprecationWarning: find_element_by_* commands are deprecated. Please use find_element() instead\n",
      "  name = driver.find_element_by_css_selector(\"span.secondary-headline.name\")\n",
      "C:\\Users\\smhrd\\AppData\\Local\\Temp/ipykernel_7544/36363940.py:25: DeprecationWarning: find_element_by_* commands are deprecated. Please use find_element() instead\n",
      "  score = driver.find_element_by_css_selector(\"#main-content > div > div.spirit-show.center-column.js-carousel.vodka-content > div.primary-content > div.tabs > div > div > div.stats-container > div > div > div > div > div.rating-display__value.average-rating > span\")\n",
      "C:\\Users\\smhrd\\AppData\\Local\\Temp/ipykernel_7544/36363940.py:29: DeprecationWarning: find_element_by_* commands are deprecated. Please use find_element() instead\n",
      "  abv = driver.find_element_by_css_selector(\"#main-content > div > div.spirit-show.center-column.js-carousel.vodka-content > div.primary-content > div.tabs > div > div > div.spirit-show__description-container > div.other-details-container > ul > div > li.detail.abv > div.value\")\n",
      "C:\\Users\\smhrd\\AppData\\Local\\Temp/ipykernel_7544/36363940.py:32: DeprecationWarning: find_elements_by_* commands are deprecated. Please use find_elements() instead\n",
      "  des = driver.find_elements_by_css_selector(\"div.only-small>p.description\")\n",
      "C:\\Users\\smhrd\\AppData\\Local\\Temp/ipykernel_7544/36363940.py:39: DeprecationWarning: find_element_by_* commands are deprecated. Please use find_element() instead\n",
      "  canvasTemp=driver.find_element_by_css_selector(\".js-flavor-profile-chart\")\n"
     ]
    },
    {
     "name": "stdout",
     "output_type": "stream",
     "text": [
      "설명 입력\n",
      "오류\n",
      "설명 입력\n",
      "설명없음\n",
      "오류\n",
      "설명 입력\n",
      "오류\n"
     ]
    },
    {
     "name": "stderr",
     "output_type": "stream",
     "text": [
      "C:\\Users\\smhrd\\AppData\\Local\\Temp/ipykernel_7544/36363940.py:53: DeprecationWarning: find_element_by_* commands are deprecated. Please use find_element() instead\n",
      "  body = driver.find_element_by_css_selector(\"body\")\n"
     ]
    },
    {
     "name": "stdout",
     "output_type": "stream",
     "text": [
      "다운\n",
      "설명 입력\n",
      "오류\n",
      "설명 입력\n",
      "설명 입력\n",
      "오류\n",
      "설명 입력\n",
      "설명 입력\n",
      "오류\n"
     ]
    }
   ],
   "source": [
    "pattern = re.compile('url\\((.*?)\\)') \n",
    "name_list = [] #이름\n",
    "score_list = [] #별점\n",
    "abv_list = [] #도수\n",
    "des_list = [] #설명\n",
    "taste_list = [] #맛, 향\n",
    "img_list = [] # 이미지\n",
    "num_list = [] #순서\n",
    "num = 0\n",
    "\n",
    "driver = wb.Chrome()\n",
    "time.sleep(random.uniform(2,4))\n",
    "\n",
    "for j in range(1,2):\n",
    "    driver.get('https://distiller.com/search?page='+str(j)+'&sort=total_num_of_ratings&spirit_style_id=104')\n",
    "    time.sleep(random.uniform(2,4))\n",
    "    for i in range(10) :\n",
    "        try:\n",
    "            btn = driver.find_elements_by_class_name(\"name\")\n",
    "            btn[i].click()\n",
    "            time.sleep(random.uniform(2,4))\n",
    "            name = driver.find_element_by_css_selector(\"span.secondary-headline.name\")\n",
    "            name_list.append(name.text)\n",
    "            try:\n",
    "                score = driver.find_element_by_css_selector(\"#main-content > div > div.spirit-show.center-column.js-carousel.vodka-content > div.primary-content > div.tabs > div > div > div.stats-container > div > div > div > div > div.rating-display__value.average-rating > span\")\n",
    "                score_list.append(score.text)\n",
    "            except:\n",
    "                score_list.append(\"none\")\n",
    "            abv = driver.find_element_by_css_selector(\"#main-content > div > div.spirit-show.center-column.js-carousel.vodka-content > div.primary-content > div.tabs > div > div > div.spirit-show__description-container > div.other-details-container > ul > div > li.detail.abv > div.value\")\n",
    "            abv_list.append(abv.text)\n",
    "            try:\n",
    "                des = driver.find_elements_by_css_selector(\"div.only-small>p.description\")\n",
    "                des_list.append(des[0].text)\n",
    "                print(\"설명 입력\")\n",
    "            except:\n",
    "                des_list.append(\"none\")\n",
    "                print(\"설명없음\")\n",
    "            try :\n",
    "                canvasTemp=driver.find_element_by_css_selector(\".js-flavor-profile-chart\")\n",
    "                taste_list.append(canvasTemp.get_attribute('data-flavors'))\n",
    "            except :\n",
    "                taste_list.append(\"none\")\n",
    "                print(\"오류\")\n",
    "            url = driver.current_url\n",
    "            res = req.get(url)\n",
    "            found = re.search(pattern,res.text)\n",
    "            img_list.append(found.group(1))\n",
    "            num_list.append(num+1)\n",
    "            num = num + 1\n",
    "            driver.back()\n",
    "            time.sleep(random.uniform(2,4))\n",
    "        except:\n",
    "            body = driver.find_element_by_css_selector(\"body\")\n",
    "            body.send_keys(Keys.ARROW_DOWN)\n",
    "            body.send_keys(Keys.ARROW_DOWN)\n",
    "            body.send_keys(Keys.ARROW_DOWN)\n",
    "            body.send_keys(Keys.ARROW_DOWN)\n",
    "            body.send_keys(Keys.ARROW_DOWN)\n",
    "            body.send_keys(Keys.ARROW_DOWN)\n",
    "            body.send_keys(Keys.ARROW_DOWN)\n",
    "            body.send_keys(Keys.ARROW_DOWN)\n",
    "            body.send_keys(Keys.ARROW_DOWN)\n",
    "            body.send_keys(Keys.ARROW_DOWN)\n",
    "            body.send_keys(Keys.ARROW_DOWN)\n",
    "            body.send_keys(Keys.ARROW_DOWN)\n",
    "            body.send_keys(Keys.ARROW_DOWN)\n",
    "            body.send_keys(Keys.ARROW_DOWN)#\n",
    "            body.send_keys(Keys.ARROW_DOWN)\n",
    "            print(\"다운\")\n",
    "        \n",
    "    \n",
    "\n"
   ]
  },
  {
   "cell_type": "code",
   "execution_count": 9,
   "id": "6843b1a8",
   "metadata": {},
   "outputs": [],
   "source": [
    "fin.to_csv(\"distiller-향보드카.csv\", encoding=\"utf-8-sig\")"
   ]
  },
  {
   "cell_type": "code",
   "execution_count": 39,
   "id": "1e33da51",
   "metadata": {},
   "outputs": [
    {
     "data": {
      "text/plain": [
       "9"
      ]
     },
     "execution_count": 39,
     "metadata": {},
     "output_type": "execute_result"
    }
   ],
   "source": [
    "len(des_list)"
   ]
  },
  {
   "cell_type": "code",
   "execution_count": 37,
   "id": "bbf91d45",
   "metadata": {},
   "outputs": [],
   "source": [
    "dic = {\"순서\" : num_list,\"상품명\" : name_list, \"별점\" : score_list, \"도수\" : abv_list, \"설명\" : des_list, \"맛과향\" : taste_list, \"이미지\" : img_list}\n",
    "fin = pd.DataFrame(dic)"
   ]
  },
  {
   "cell_type": "code",
   "execution_count": 38,
   "id": "167cd0d9",
   "metadata": {},
   "outputs": [
    {
     "data": {
      "text/html": [
       "<div>\n",
       "<style scoped>\n",
       "    .dataframe tbody tr th:only-of-type {\n",
       "        vertical-align: middle;\n",
       "    }\n",
       "\n",
       "    .dataframe tbody tr th {\n",
       "        vertical-align: top;\n",
       "    }\n",
       "\n",
       "    .dataframe thead th {\n",
       "        text-align: right;\n",
       "    }\n",
       "</style>\n",
       "<table border=\"1\" class=\"dataframe\">\n",
       "  <thead>\n",
       "    <tr style=\"text-align: right;\">\n",
       "      <th></th>\n",
       "      <th>순서</th>\n",
       "      <th>상품명</th>\n",
       "      <th>별점</th>\n",
       "      <th>도수</th>\n",
       "      <th>설명</th>\n",
       "      <th>맛과향</th>\n",
       "      <th>이미지</th>\n",
       "    </tr>\n",
       "  </thead>\n",
       "  <tbody>\n",
       "    <tr>\n",
       "      <th>0</th>\n",
       "      <td>1</td>\n",
       "      <td>ŻUBRÓWKA BISON GRASS VODKA</td>\n",
       "      <td>4.08</td>\n",
       "      <td>40.0</td>\n",
       "      <td></td>\n",
       "      <td>none</td>\n",
       "      <td>https://ip-distiller.imgix.net/images/spirits/...</td>\n",
       "    </tr>\n",
       "    <tr>\n",
       "      <th>1</th>\n",
       "      <td>2</td>\n",
       "      <td>ABSOLUT CITRON</td>\n",
       "      <td>2.95</td>\n",
       "      <td>40.0</td>\n",
       "      <td></td>\n",
       "      <td>{\"grain\":40,\"earthy\":15,\"spicy\":15,\"herbal\":0,...</td>\n",
       "      <td>https://ip-distiller.imgix.net/images/spirits/...</td>\n",
       "    </tr>\n",
       "    <tr>\n",
       "      <th>2</th>\n",
       "      <td>3</td>\n",
       "      <td>NEW AMSTERDAM PINK WHITNEY</td>\n",
       "      <td>4.09</td>\n",
       "      <td>30.0</td>\n",
       "      <td>none</td>\n",
       "      <td>none</td>\n",
       "      <td>https://ip-distiller.imgix.net/images/spirits/...</td>\n",
       "    </tr>\n",
       "    <tr>\n",
       "      <th>3</th>\n",
       "      <td>4</td>\n",
       "      <td>ABSOLUT VANILLA</td>\n",
       "      <td>3.18</td>\n",
       "      <td>40.0</td>\n",
       "      <td></td>\n",
       "      <td>none</td>\n",
       "      <td>https://ip-distiller.imgix.net/images/spirits/...</td>\n",
       "    </tr>\n",
       "    <tr>\n",
       "      <th>4</th>\n",
       "      <td>5</td>\n",
       "      <td>RUSSIAN STANDARD GOLD</td>\n",
       "      <td>4.04</td>\n",
       "      <td>40.0</td>\n",
       "      <td></td>\n",
       "      <td>none</td>\n",
       "      <td>https://ip-distiller.imgix.net/images/spirits/...</td>\n",
       "    </tr>\n",
       "    <tr>\n",
       "      <th>5</th>\n",
       "      <td>6</td>\n",
       "      <td>ABSOLUT LIME</td>\n",
       "      <td>3.38</td>\n",
       "      <td>40.0</td>\n",
       "      <td></td>\n",
       "      <td>{\"grain\":15,\"earthy\":0,\"spicy\":10,\"herbal\":15,...</td>\n",
       "      <td>https://ip-distiller.imgix.net/images/spirits/...</td>\n",
       "    </tr>\n",
       "    <tr>\n",
       "      <th>6</th>\n",
       "      <td>7</td>\n",
       "      <td>CÎROC PEACH</td>\n",
       "      <td>3.45</td>\n",
       "      <td>35.0</td>\n",
       "      <td></td>\n",
       "      <td>none</td>\n",
       "      <td>https://ip-distiller.imgix.net/images/spirits/...</td>\n",
       "    </tr>\n",
       "    <tr>\n",
       "      <th>7</th>\n",
       "      <td>8</td>\n",
       "      <td>ABSOLUT MANDRIN</td>\n",
       "      <td>3.44</td>\n",
       "      <td>40.0</td>\n",
       "      <td></td>\n",
       "      <td>{\"grain\":15,\"earthy\":0,\"spicy\":20,\"herbal\":0,\"...</td>\n",
       "      <td>https://ip-distiller.imgix.net/images/spirits/...</td>\n",
       "    </tr>\n",
       "    <tr>\n",
       "      <th>8</th>\n",
       "      <td>9</td>\n",
       "      <td>SMIRNOFF VANILLA</td>\n",
       "      <td>2.7</td>\n",
       "      <td>30.0</td>\n",
       "      <td></td>\n",
       "      <td>none</td>\n",
       "      <td>https://ip-distiller.imgix.net/images/spirits/...</td>\n",
       "    </tr>\n",
       "  </tbody>\n",
       "</table>\n",
       "</div>"
      ],
      "text/plain": [
       "   순서                         상품명    별점    도수    설명  \\\n",
       "0   1  ŻUBRÓWKA BISON GRASS VODKA  4.08  40.0         \n",
       "1   2              ABSOLUT CITRON  2.95  40.0         \n",
       "2   3  NEW AMSTERDAM PINK WHITNEY  4.09  30.0  none   \n",
       "3   4             ABSOLUT VANILLA  3.18  40.0         \n",
       "4   5       RUSSIAN STANDARD GOLD  4.04  40.0         \n",
       "5   6                ABSOLUT LIME  3.38  40.0         \n",
       "6   7                 CÎROC PEACH  3.45  35.0         \n",
       "7   8             ABSOLUT MANDRIN  3.44  40.0         \n",
       "8   9            SMIRNOFF VANILLA   2.7  30.0         \n",
       "\n",
       "                                                 맛과향  \\\n",
       "0                                               none   \n",
       "1  {\"grain\":40,\"earthy\":15,\"spicy\":15,\"herbal\":0,...   \n",
       "2                                               none   \n",
       "3                                               none   \n",
       "4                                               none   \n",
       "5  {\"grain\":15,\"earthy\":0,\"spicy\":10,\"herbal\":15,...   \n",
       "6                                               none   \n",
       "7  {\"grain\":15,\"earthy\":0,\"spicy\":20,\"herbal\":0,\"...   \n",
       "8                                               none   \n",
       "\n",
       "                                                 이미지  \n",
       "0  https://ip-distiller.imgix.net/images/spirits/...  \n",
       "1  https://ip-distiller.imgix.net/images/spirits/...  \n",
       "2  https://ip-distiller.imgix.net/images/spirits/...  \n",
       "3  https://ip-distiller.imgix.net/images/spirits/...  \n",
       "4  https://ip-distiller.imgix.net/images/spirits/...  \n",
       "5  https://ip-distiller.imgix.net/images/spirits/...  \n",
       "6  https://ip-distiller.imgix.net/images/spirits/...  \n",
       "7  https://ip-distiller.imgix.net/images/spirits/...  \n",
       "8  https://ip-distiller.imgix.net/images/spirits/...  "
      ]
     },
     "execution_count": 38,
     "metadata": {},
     "output_type": "execute_result"
    }
   ],
   "source": [
    "fin"
   ]
  },
  {
   "cell_type": "code",
   "execution_count": 40,
   "id": "49a76dca",
   "metadata": {},
   "outputs": [],
   "source": [
    "fin.to_csv(\"distiller-향보드카수정.csv\", encoding=\"utf-8-sig\")"
   ]
  },
  {
   "cell_type": "code",
   "execution_count": null,
   "id": "71ab1167",
   "metadata": {},
   "outputs": [],
   "source": []
  },
  {
   "cell_type": "code",
   "execution_count": null,
   "id": "c30848e4",
   "metadata": {},
   "outputs": [],
   "source": []
  },
  {
   "cell_type": "code",
   "execution_count": null,
   "id": "5e7a092d",
   "metadata": {},
   "outputs": [],
   "source": []
  },
  {
   "cell_type": "code",
   "execution_count": null,
   "id": "6462cf0a",
   "metadata": {},
   "outputs": [],
   "source": []
  },
  {
   "cell_type": "code",
   "execution_count": 12,
   "id": "9fbd28b4",
   "metadata": {},
   "outputs": [],
   "source": [
    "driver = wb.Chrome()\n",
    "time.sleep(2)\n",
    "driver.get(\"https://distiller.com/spirits/absolut-lime\")"
   ]
  },
  {
   "cell_type": "code",
   "execution_count": 31,
   "id": "d4b8ccb0",
   "metadata": {},
   "outputs": [
    {
     "name": "stderr",
     "output_type": "stream",
     "text": [
      "C:\\Users\\smhrd\\AppData\\Local\\Temp/ipykernel_8064/2027148686.py:1: DeprecationWarning: find_element_by_* commands are deprecated. Please use find_element() instead\n",
      "  des = driver.find_element_by_css_selector(\"#main-content > div > div.spirit-show.center-column.js-carousel.vodka-content > div.primary-content > div.tabs > div > div > div.spirit-show__description-container > div.only-small > p:nth-child(1)\")\n"
     ]
    },
    {
     "data": {
      "text/plain": [
       "<selenium.webdriver.remote.webelement.WebElement (session=\"c10c998bc2f8f589c0a788e1deaed4a6\", element=\"a7a55e17-b4c9-466c-8de3-602210c8c613\")>"
      ]
     },
     "execution_count": 31,
     "metadata": {},
     "output_type": "execute_result"
    }
   ],
   "source": [
    "des = driver.find_element_by_css_selector(\"#main-content > div > div.spirit-show.center-column.js-carousel.vodka-content > div.primary-content > div.tabs > div > div > div.spirit-show__description-container > div.only-small > p:nth-child(1)\")\n",
    "des"
   ]
  },
  {
   "cell_type": "code",
   "execution_count": null,
   "id": "d1d9d8e3",
   "metadata": {},
   "outputs": [],
   "source": [
    "'https://distiller.com/search?page='+str(j)+'&spirit_style_id=104'"
   ]
  },
  {
   "cell_type": "code",
   "execution_count": null,
   "id": "41b096c5",
   "metadata": {},
   "outputs": [],
   "source": [
    "'https://distiller.com/search?page='+str(j)+'&sort=total_num_of_ratings&spirit_style_id=104'"
   ]
  },
  {
   "cell_type": "code",
   "execution_count": null,
   "id": "8f0af681",
   "metadata": {},
   "outputs": [],
   "source": []
  },
  {
   "cell_type": "code",
   "execution_count": 35,
   "id": "161f853c",
   "metadata": {},
   "outputs": [
    {
     "name": "stderr",
     "output_type": "stream",
     "text": [
      "C:\\Users\\smhrd\\AppData\\Local\\Temp/ipykernel_8064/2975928643.py:1: DeprecationWarning: find_element_by_* commands are deprecated. Please use find_element() instead\n",
      "  des = driver.find_element_by_css_selector(\"#main-content > div > div.spirit-show.center-column.js-carousel.vodka-content > div.primary-content > div > div > div > div.spirit-show__description-container > div.only-small > p:nth-child(1)\")\n"
     ]
    },
    {
     "data": {
      "text/plain": [
       "'This Polish rye-based vodka is flavored with grass from the Białowieża Forest in northeastern Poland, one of the last and largest primeval forests in the world. It is here where Polish bison roam among the grass. The grass is harvested each June or July, dried, and cut to size.'"
      ]
     },
     "execution_count": 35,
     "metadata": {},
     "output_type": "execute_result"
    }
   ],
   "source": [
    "des = driver.find_element_by_css_selector(\"#main-content > div > div.spirit-show.center-column.js-carousel.vodka-content > div.primary-content > div > div > div > div.spirit-show__description-container > div.only-small > p:nth-child(1)\")\n",
    "des.text"
   ]
  },
  {
   "cell_type": "code",
   "execution_count": 61,
   "id": "b39759a5",
   "metadata": {},
   "outputs": [
    {
     "name": "stderr",
     "output_type": "stream",
     "text": [
      "C:\\Users\\smhrd\\AppData\\Local\\Temp/ipykernel_8064/3141163838.py:1: DeprecationWarning: find_element_by_* commands are deprecated. Please use find_element() instead\n",
      "  des = driver.find_element_by_css_selector(\"div.only-small>p.description\")\n"
     ]
    },
    {
     "data": {
      "text/plain": [
       "'This Polish rye-based vodka is flavored with grass from the Białowieża Forest in northeastern Poland, one of the last and largest primeval forests in the world. It is here where Polish bison roam among the grass. The grass is harvested each June or July, dried, and cut to size.'"
      ]
     },
     "execution_count": 61,
     "metadata": {},
     "output_type": "execute_result"
    }
   ],
   "source": [
    "des = driver.find_element_by_css_selector(\"div.only-small>p.description\")\n",
    "des.text"
   ]
  },
  {
   "cell_type": "code",
   "execution_count": null,
   "id": "6007d7c9",
   "metadata": {},
   "outputs": [],
   "source": [
    "#main-content > div > div.spirit-show.center-column.js-carousel.vodka-content > div.primary-content > div > div > div > div.spirit-show__description-container > div.only-small > p:nth-child(1)\n",
    "#main-content > div > div.spirit-show.center-column.js-carousel.vodka-content > div.primary-content > div > div > div > div.spirit-show__description-container > div.only-small > p:nth-child(1)"
   ]
  },
  {
   "cell_type": "code",
   "execution_count": 13,
   "id": "e6fbdb5c",
   "metadata": {},
   "outputs": [
    {
     "data": {
      "text/plain": [
       "<Response [200]>"
      ]
     },
     "execution_count": 13,
     "metadata": {},
     "output_type": "execute_result"
    }
   ],
   "source": [
    "url = \"https://distiller.com/spirits/absolut-mandrin\"\n",
    "res = req.get(url)\n",
    "res"
   ]
  },
  {
   "cell_type": "code",
   "execution_count": 17,
   "id": "dba079e9",
   "metadata": {},
   "outputs": [],
   "source": [
    "soup = bs(res.text,'lxml')"
   ]
  },
  {
   "cell_type": "code",
   "execution_count": 23,
   "id": "d3a0334d",
   "metadata": {},
   "outputs": [
    {
     "data": {
      "text/plain": [
       "\"Absolut Mandrin was first released in 1999, the fourth flavor in Absolut's arsenal. It is made using Absolut's standard winter-wheat-based vodka with orange, mandarin, and citrus flavor.\""
      ]
     },
     "execution_count": 23,
     "metadata": {},
     "output_type": "execute_result"
    }
   ],
   "source": [
    "soup.select_one(\"div.only-small>p.description\").text"
   ]
  },
  {
   "cell_type": "code",
   "execution_count": 26,
   "id": "84ca9b9d",
   "metadata": {},
   "outputs": [
    {
     "data": {
      "text/plain": [
       "\"Absolut Mandrin was first released in 1999, the fourth flavor in Absolut's arsenal. It is made using Absolut's standard winter-wheat-based vodka with orange, mandarin, and citrus flavor.\""
      ]
     },
     "execution_count": 26,
     "metadata": {},
     "output_type": "execute_result"
    }
   ],
   "source": [
    "url = driver.current_url\n",
    "res = req.get(url)\n",
    "soup = bs(res.text,'lxml')\n",
    "des = soup.select_one(\"div.only-small>p.description\")\n",
    "des.text\n"
   ]
  },
  {
   "cell_type": "code",
   "execution_count": 31,
   "id": "47fcb1de",
   "metadata": {},
   "outputs": [
    {
     "name": "stderr",
     "output_type": "stream",
     "text": [
      "C:\\Users\\smhrd\\AppData\\Local\\Temp/ipykernel_7544/3461425440.py:19: DeprecationWarning: find_elements_by_* commands are deprecated. Please use find_elements() instead\n",
      "  btn = driver.find_elements_by_class_name(\"name\")\n",
      "C:\\Users\\smhrd\\AppData\\Local\\Temp/ipykernel_7544/3461425440.py:22: DeprecationWarning: find_element_by_* commands are deprecated. Please use find_element() instead\n",
      "  name = driver.find_element_by_css_selector(\"span.secondary-headline.name\")\n",
      "C:\\Users\\smhrd\\AppData\\Local\\Temp/ipykernel_7544/3461425440.py:25: DeprecationWarning: find_element_by_* commands are deprecated. Please use find_element() instead\n",
      "  score = driver.find_element_by_css_selector(\"#main-content > div > div.spirit-show.center-column.js-carousel.vodka-content > div.primary-content > div.tabs > div > div > div.stats-container > div > div > div > div > div.rating-display__value.average-rating > span\")\n",
      "C:\\Users\\smhrd\\AppData\\Local\\Temp/ipykernel_7544/3461425440.py:29: DeprecationWarning: find_element_by_* commands are deprecated. Please use find_element() instead\n",
      "  abv = driver.find_element_by_css_selector(\"#main-content > div > div.spirit-show.center-column.js-carousel.vodka-content > div.primary-content > div.tabs > div > div > div.spirit-show__description-container > div.other-details-container > ul > div > li.detail.abv > div.value\")\n",
      "C:\\Users\\smhrd\\AppData\\Local\\Temp/ipykernel_7544/3461425440.py:52: DeprecationWarning: find_element_by_* commands are deprecated. Please use find_element() instead\n",
      "  body = driver.find_element_by_css_selector(\"body\")\n"
     ]
    },
    {
     "name": "stdout",
     "output_type": "stream",
     "text": [
      "다운\n",
      "다운\n",
      "다운\n",
      "다운\n",
      "다운\n",
      "다운\n",
      "다운\n",
      "다운\n",
      "다운\n",
      "다운\n"
     ]
    }
   ],
   "source": [
    "pattern = re.compile('url\\((.*?)\\)') \n",
    "name_list = [] #이름\n",
    "score_list = [] #별점\n",
    "abv_list = [] #도수\n",
    "des_list = [] #설명\n",
    "taste_list = [] #맛, 향\n",
    "img_list = [] # 이미지\n",
    "num_list = [] #순서\n",
    "num = 0\n",
    "\n",
    "driver = wb.Chrome()\n",
    "time.sleep(random.uniform(2,4))\n",
    "\n",
    "for j in range(1,2):\n",
    "    driver.get('https://distiller.com/search?page='+str(j)+'&sort=total_num_of_ratings&spirit_style_id=104')\n",
    "    time.sleep(random.uniform(2,4))\n",
    "    for i in range(10) :\n",
    "        try:\n",
    "            btn = driver.find_elements_by_class_name(\"name\")\n",
    "            btn[i].click()\n",
    "            time.sleep(random.uniform(2,4))\n",
    "            name = driver.find_element_by_css_selector(\"span.secondary-headline.name\")\n",
    "            name_list.append(name.text)\n",
    "            try:\n",
    "                score = driver.find_element_by_css_selector(\"#main-content > div > div.spirit-show.center-column.js-carousel.vodka-content > div.primary-content > div.tabs > div > div > div.stats-container > div > div > div > div > div.rating-display__value.average-rating > span\")\n",
    "                score_list.append(score.text)\n",
    "            except:\n",
    "                score_list.append(\"none\")\n",
    "            abv = driver.find_element_by_css_selector(\"#main-content > div > div.spirit-show.center-column.js-carousel.vodka-content > div.primary-content > div.tabs > div > div > div.spirit-show__description-container > div.other-details-container > ul > div > li.detail.abv > div.value\")\n",
    "            abv_list.append(abv.text)\n",
    "            try:\n",
    "                des = driver.find_element_by_css_selector(\"#main-content > div > div.spirit-show.center-column.js-carousel.vodka-content > div.primary-content > div > div > div > div.spirit-show__description-container > div.other-details-container > ul > li.detail.whiskey-style > div.value\")\n",
    "                des_list.append(des.text)\n",
    "                print(\"설명 입력\")\n",
    "            except:\n",
    "                des_list.append(\"none\")\n",
    "                print(\"설명없음\")\n",
    "            try :\n",
    "                canvasTemp=driver.find_element_by_css_selector(\".js-flavor-profile-chart\")\n",
    "                taste_list.append(canvasTemp.get_attribute('data-flavors'))\n",
    "            except :\n",
    "                taste_list.append(\"none\")\n",
    "                print(\"오류\")\n",
    "            url = driver.current_url\n",
    "            res = req.get(url)\n",
    "            found = re.search(pattern,res.text)\n",
    "            img_list.append(found.group(1))\n",
    "            num_list.append(num+1)\n",
    "            num = num + 1\n",
    "            driver.back()\n",
    "            time.sleep(random.uniform(2,4))\n",
    "        except:\n",
    "            body = driver.find_element_by_css_selector(\"body\")\n",
    "            body.send_keys(Keys.ARROW_DOWN)\n",
    "            body.send_keys(Keys.ARROW_DOWN)\n",
    "            body.send_keys(Keys.ARROW_DOWN)\n",
    "            body.send_keys(Keys.ARROW_DOWN)\n",
    "            body.send_keys(Keys.ARROW_DOWN)\n",
    "            body.send_keys(Keys.ARROW_DOWN)\n",
    "            body.send_keys(Keys.ARROW_DOWN)\n",
    "            body.send_keys(Keys.ARROW_DOWN)\n",
    "            body.send_keys(Keys.ARROW_DOWN)\n",
    "            body.send_keys(Keys.ARROW_DOWN)\n",
    "            body.send_keys(Keys.ARROW_DOWN)\n",
    "            body.send_keys(Keys.ARROW_DOWN)\n",
    "            body.send_keys(Keys.ARROW_DOWN)\n",
    "            body.send_keys(Keys.ARROW_DOWN)#\n",
    "            body.send_keys(Keys.ARROW_DOWN)\n",
    "            print(\"다운\")\n",
    "        \n",
    "    \n",
    "\n"
   ]
  },
  {
   "cell_type": "code",
   "execution_count": 28,
   "id": "666a3d59",
   "metadata": {},
   "outputs": [],
   "source": [
    "dic = {\"순서\" : num_list,\"상품명\" : name_list, \"별점\" : score_list, \"도수\" : abv_list, \"설명\" : des_list, \"맛과향\" : taste_list, \"이미지\" : img_list}\n",
    "fin = pd.DataFrame(dic)"
   ]
  },
  {
   "cell_type": "code",
   "execution_count": 29,
   "id": "fee7e7f4",
   "metadata": {},
   "outputs": [
    {
     "data": {
      "text/html": [
       "<div>\n",
       "<style scoped>\n",
       "    .dataframe tbody tr th:only-of-type {\n",
       "        vertical-align: middle;\n",
       "    }\n",
       "\n",
       "    .dataframe tbody tr th {\n",
       "        vertical-align: top;\n",
       "    }\n",
       "\n",
       "    .dataframe thead th {\n",
       "        text-align: right;\n",
       "    }\n",
       "</style>\n",
       "<table border=\"1\" class=\"dataframe\">\n",
       "  <thead>\n",
       "    <tr style=\"text-align: right;\">\n",
       "      <th></th>\n",
       "      <th>순서</th>\n",
       "      <th>상품명</th>\n",
       "      <th>별점</th>\n",
       "      <th>도수</th>\n",
       "      <th>설명</th>\n",
       "      <th>맛과향</th>\n",
       "      <th>이미지</th>\n",
       "    </tr>\n",
       "  </thead>\n",
       "  <tbody>\n",
       "    <tr>\n",
       "      <th>0</th>\n",
       "      <td>1</td>\n",
       "      <td>ŻUBRÓWKA BISON GRASS VODKA</td>\n",
       "      <td>4.08</td>\n",
       "      <td>40.0</td>\n",
       "      <td>none</td>\n",
       "      <td>none</td>\n",
       "      <td>https://ip-distiller.imgix.net/images/spirits/...</td>\n",
       "    </tr>\n",
       "    <tr>\n",
       "      <th>1</th>\n",
       "      <td>2</td>\n",
       "      <td>ABSOLUT CITRON</td>\n",
       "      <td>2.95</td>\n",
       "      <td>40.0</td>\n",
       "      <td>none</td>\n",
       "      <td>{\"grain\":40,\"earthy\":15,\"spicy\":15,\"herbal\":0,...</td>\n",
       "      <td>https://ip-distiller.imgix.net/images/spirits/...</td>\n",
       "    </tr>\n",
       "    <tr>\n",
       "      <th>2</th>\n",
       "      <td>3</td>\n",
       "      <td>NEW AMSTERDAM PINK WHITNEY</td>\n",
       "      <td>4.09</td>\n",
       "      <td>30.0</td>\n",
       "      <td>none</td>\n",
       "      <td>none</td>\n",
       "      <td>https://ip-distiller.imgix.net/images/spirits/...</td>\n",
       "    </tr>\n",
       "    <tr>\n",
       "      <th>3</th>\n",
       "      <td>4</td>\n",
       "      <td>ABSOLUT VANILLA</td>\n",
       "      <td>3.18</td>\n",
       "      <td>40.0</td>\n",
       "      <td>none</td>\n",
       "      <td>none</td>\n",
       "      <td>https://ip-distiller.imgix.net/images/spirits/...</td>\n",
       "    </tr>\n",
       "    <tr>\n",
       "      <th>4</th>\n",
       "      <td>5</td>\n",
       "      <td>RUSSIAN STANDARD GOLD</td>\n",
       "      <td>4.04</td>\n",
       "      <td>40.0</td>\n",
       "      <td>none</td>\n",
       "      <td>none</td>\n",
       "      <td>https://ip-distiller.imgix.net/images/spirits/...</td>\n",
       "    </tr>\n",
       "    <tr>\n",
       "      <th>5</th>\n",
       "      <td>6</td>\n",
       "      <td>ABSOLUT LIME</td>\n",
       "      <td>3.38</td>\n",
       "      <td>40.0</td>\n",
       "      <td>none</td>\n",
       "      <td>{\"grain\":15,\"earthy\":0,\"spicy\":10,\"herbal\":15,...</td>\n",
       "      <td>https://ip-distiller.imgix.net/images/spirits/...</td>\n",
       "    </tr>\n",
       "    <tr>\n",
       "      <th>6</th>\n",
       "      <td>7</td>\n",
       "      <td>CÎROC PEACH</td>\n",
       "      <td>3.45</td>\n",
       "      <td>35.0</td>\n",
       "      <td>none</td>\n",
       "      <td>none</td>\n",
       "      <td>https://ip-distiller.imgix.net/images/spirits/...</td>\n",
       "    </tr>\n",
       "    <tr>\n",
       "      <th>7</th>\n",
       "      <td>8</td>\n",
       "      <td>ABSOLUT MANDRIN</td>\n",
       "      <td>3.44</td>\n",
       "      <td>40.0</td>\n",
       "      <td>none</td>\n",
       "      <td>{\"grain\":15,\"earthy\":0,\"spicy\":20,\"herbal\":0,\"...</td>\n",
       "      <td>https://ip-distiller.imgix.net/images/spirits/...</td>\n",
       "    </tr>\n",
       "    <tr>\n",
       "      <th>8</th>\n",
       "      <td>9</td>\n",
       "      <td>SMIRNOFF VANILLA</td>\n",
       "      <td>2.7</td>\n",
       "      <td>30.0</td>\n",
       "      <td>none</td>\n",
       "      <td>none</td>\n",
       "      <td>https://ip-distiller.imgix.net/images/spirits/...</td>\n",
       "    </tr>\n",
       "  </tbody>\n",
       "</table>\n",
       "</div>"
      ],
      "text/plain": [
       "   순서                         상품명    별점    도수    설명  \\\n",
       "0   1  ŻUBRÓWKA BISON GRASS VODKA  4.08  40.0  none   \n",
       "1   2              ABSOLUT CITRON  2.95  40.0  none   \n",
       "2   3  NEW AMSTERDAM PINK WHITNEY  4.09  30.0  none   \n",
       "3   4             ABSOLUT VANILLA  3.18  40.0  none   \n",
       "4   5       RUSSIAN STANDARD GOLD  4.04  40.0  none   \n",
       "5   6                ABSOLUT LIME  3.38  40.0  none   \n",
       "6   7                 CÎROC PEACH  3.45  35.0  none   \n",
       "7   8             ABSOLUT MANDRIN  3.44  40.0  none   \n",
       "8   9            SMIRNOFF VANILLA   2.7  30.0  none   \n",
       "\n",
       "                                                 맛과향  \\\n",
       "0                                               none   \n",
       "1  {\"grain\":40,\"earthy\":15,\"spicy\":15,\"herbal\":0,...   \n",
       "2                                               none   \n",
       "3                                               none   \n",
       "4                                               none   \n",
       "5  {\"grain\":15,\"earthy\":0,\"spicy\":10,\"herbal\":15,...   \n",
       "6                                               none   \n",
       "7  {\"grain\":15,\"earthy\":0,\"spicy\":20,\"herbal\":0,\"...   \n",
       "8                                               none   \n",
       "\n",
       "                                                 이미지  \n",
       "0  https://ip-distiller.imgix.net/images/spirits/...  \n",
       "1  https://ip-distiller.imgix.net/images/spirits/...  \n",
       "2  https://ip-distiller.imgix.net/images/spirits/...  \n",
       "3  https://ip-distiller.imgix.net/images/spirits/...  \n",
       "4  https://ip-distiller.imgix.net/images/spirits/...  \n",
       "5  https://ip-distiller.imgix.net/images/spirits/...  \n",
       "6  https://ip-distiller.imgix.net/images/spirits/...  \n",
       "7  https://ip-distiller.imgix.net/images/spirits/...  \n",
       "8  https://ip-distiller.imgix.net/images/spirits/...  "
      ]
     },
     "execution_count": 29,
     "metadata": {},
     "output_type": "execute_result"
    }
   ],
   "source": [
    "fin"
   ]
  },
  {
   "cell_type": "code",
   "execution_count": null,
   "id": "705db456",
   "metadata": {},
   "outputs": [],
   "source": []
  },
  {
   "cell_type": "code",
   "execution_count": null,
   "id": "a5c9167b",
   "metadata": {},
   "outputs": [],
   "source": []
  },
  {
   "cell_type": "code",
   "execution_count": null,
   "id": "ad4681e6",
   "metadata": {},
   "outputs": [],
   "source": []
  }
 ],
 "metadata": {
  "kernelspec": {
   "display_name": "Python 3 (ipykernel)",
   "language": "python",
   "name": "python3"
  },
  "language_info": {
   "codemirror_mode": {
    "name": "ipython",
    "version": 3
   },
   "file_extension": ".py",
   "mimetype": "text/x-python",
   "name": "python",
   "nbconvert_exporter": "python",
   "pygments_lexer": "ipython3",
   "version": "3.9.7"
  }
 },
 "nbformat": 4,
 "nbformat_minor": 5
}
