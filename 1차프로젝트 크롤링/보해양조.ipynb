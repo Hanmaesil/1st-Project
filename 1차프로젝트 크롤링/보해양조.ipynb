{
 "cells": [
  {
   "cell_type": "code",
   "execution_count": 1,
   "id": "70b3952c",
   "metadata": {},
   "outputs": [],
   "source": [
    "from selenium import webdriver as wb\n",
    "from selenium.webdriver.common.keys import Keys\n",
    "import time\n",
    "import random\n",
    "import requests as req\n",
    "from bs4 import BeautifulSoup as bs\n",
    "import re\n",
    "import pandas as pd"
   ]
  },
  {
   "cell_type": "code",
   "execution_count": 2,
   "id": "d3748499",
   "metadata": {},
   "outputs": [],
   "source": [
    "driver = wb.Chrome()\n",
    "driver.maximize_window()\n",
    "time.sleep(random.uniform(2,4))\n",
    "driver.get('http://www.bohae.co.kr/bbs/board.php?bo_table=tl_product03')"
   ]
  },
  {
   "cell_type": "code",
   "execution_count": 18,
   "id": "63b35f08",
   "metadata": {},
   "outputs": [
    {
     "name": "stderr",
     "output_type": "stream",
     "text": [
      "C:\\Users\\smhrd\\AppData\\Local\\Temp/ipykernel_12140/1573947188.py:10: DeprecationWarning: find_element_by_* commands are deprecated. Please use find_element() instead\n",
      "  btn = driver.find_element_by_css_selector('#gall_ul > li:nth-child('+str(i)+') > div > div.gall_con > div.gall_img > a > img')\n",
      "C:\\Users\\smhrd\\AppData\\Local\\Temp/ipykernel_12140/1573947188.py:13: DeprecationWarning: find_element_by_* commands are deprecated. Please use find_element() instead\n",
      "  name = driver.find_element_by_css_selector('#bo_v_atc > div.clearfix > div.spec > table > tbody > tr:nth-child(1) > td')\n",
      "C:\\Users\\smhrd\\AppData\\Local\\Temp/ipykernel_12140/1573947188.py:15: DeprecationWarning: find_element_by_* commands are deprecated. Please use find_element() instead\n",
      "  abv = driver.find_element_by_css_selector('#bo_v_atc > div.clearfix > div.spec > table > tbody > tr:nth-child(3) > td')\n",
      "C:\\Users\\smhrd\\AppData\\Local\\Temp/ipykernel_12140/1573947188.py:17: DeprecationWarning: find_element_by_* commands are deprecated. Please use find_element() instead\n",
      "  des = driver.find_element_by_css_selector('#bo_v_atc > div.clearfix > div.spec > table > tbody > tr:nth-child(4) > td')\n"
     ]
    }
   ],
   "source": [
    "name_list = [] #이름\n",
    "abv_list = [] #도수\n",
    "des_list = [] #설명\n",
    "img_list = [] #이미지 경로\n",
    "soup = bs(driver.page_source,\"lxml\")\n",
    "\n",
    "for i in range(1,12):\n",
    "    img = soup.select(\"#gall_ul > li:nth-child(\"+str(i)+\") > div > div.gall_con > div.gall_img > a > img\")\n",
    "    img_list.append(img[0][\"src\"])\n",
    "    btn = driver.find_element_by_css_selector('#gall_ul > li:nth-child('+str(i)+') > div > div.gall_con > div.gall_img > a > img')\n",
    "    btn.click()\n",
    "    time.sleep(random.uniform(2,4))\n",
    "    name = driver.find_element_by_css_selector('#bo_v_atc > div.clearfix > div.spec > table > tbody > tr:nth-child(1) > td')\n",
    "    name_list.append(name.text)\n",
    "    abv = driver.find_element_by_css_selector('#bo_v_atc > div.clearfix > div.spec > table > tbody > tr:nth-child(3) > td')\n",
    "    abv_list.append(abv.text)\n",
    "    des = driver.find_element_by_css_selector('#bo_v_atc > div.clearfix > div.spec > table > tbody > tr:nth-child(4) > td')\n",
    "    des_list.append(des.text)\n",
    "    driver.back()\n",
    "    time.sleep(random.uniform(2,4))\n",
    "    \n"
   ]
  },
  {
   "cell_type": "code",
   "execution_count": 20,
   "id": "4a046f67",
   "metadata": {},
   "outputs": [
    {
     "data": {
      "text/html": [
       "<div>\n",
       "<style scoped>\n",
       "    .dataframe tbody tr th:only-of-type {\n",
       "        vertical-align: middle;\n",
       "    }\n",
       "\n",
       "    .dataframe tbody tr th {\n",
       "        vertical-align: top;\n",
       "    }\n",
       "\n",
       "    .dataframe thead th {\n",
       "        text-align: right;\n",
       "    }\n",
       "</style>\n",
       "<table border=\"1\" class=\"dataframe\">\n",
       "  <thead>\n",
       "    <tr style=\"text-align: right;\">\n",
       "      <th></th>\n",
       "      <th>이름</th>\n",
       "      <th>도수</th>\n",
       "      <th>설명</th>\n",
       "      <th>이미지경로</th>\n",
       "    </tr>\n",
       "  </thead>\n",
       "  <tbody>\n",
       "    <tr>\n",
       "      <th>0</th>\n",
       "      <td>잎새주</td>\n",
       "      <td>17.3%</td>\n",
       "      <td>잎새주는 100% 자연에서 추출한 감미료만을 사용했습니다. 잎새주는 당과 나트륨, ...</td>\n",
       "      <td>http://www.bohae.co.kr/data/file/tl_product03/...</td>\n",
       "    </tr>\n",
       "    <tr>\n",
       "      <th>1</th>\n",
       "      <td>복분자주</td>\n",
       "      <td>15%</td>\n",
       "      <td>보해 복분자주는 복분자 특유의 맛과 향을 살리기 위해 효모를 이용해 발효시킨 뒤, ...</td>\n",
       "      <td>http://www.bohae.co.kr/data/file/tl_product03/...</td>\n",
       "    </tr>\n",
       "    <tr>\n",
       "      <th>2</th>\n",
       "      <td>매취순</td>\n",
       "      <td>14%</td>\n",
       "      <td>‘매취순’은 국내 최대의 매실농원인 전남 해남 보해매실농원에서 직접 수확한 국산 청...</td>\n",
       "      <td>http://www.bohae.co.kr/data/file/tl_product03/...</td>\n",
       "    </tr>\n",
       "    <tr>\n",
       "      <th>3</th>\n",
       "      <td>순희</td>\n",
       "      <td>6%</td>\n",
       "      <td>노령산맥 지하 253m의 천연 암반수로 빚었으며, 16일간의 장기 저온발효 후 숙성...</td>\n",
       "      <td>http://www.bohae.co.kr/data/file/tl_product03/...</td>\n",
       "    </tr>\n",
       "    <tr>\n",
       "      <th>4</th>\n",
       "      <td>부라더소다</td>\n",
       "      <td>3%</td>\n",
       "      <td>‘부라더#소다’는 달콤한 밀키소다 맛에 톡 쏘는 탄산을 더해 소비자들이 부담 없이 ...</td>\n",
       "      <td>http://www.bohae.co.kr/data/file/tl_product03/...</td>\n",
       "    </tr>\n",
       "    <tr>\n",
       "      <th>5</th>\n",
       "      <td>보해골드</td>\n",
       "      <td>23%</td>\n",
       "      <td>순수 국내산 쌀보리 곡물주정을 그대로 담아냈으며 전남 보성녹차를 새롭게 첨가해 명품...</td>\n",
       "      <td>http://www.bohae.co.kr/data/file/tl_product03/...</td>\n",
       "    </tr>\n",
       "    <tr>\n",
       "      <th>6</th>\n",
       "      <td>보해소주</td>\n",
       "      <td>16.8%</td>\n",
       "      <td>보해소주의 가장 큰 특징은 소금을 넣었다는 것입니다. 수억 년 전 태초의 바다로부터...</td>\n",
       "      <td>http://www.bohae.co.kr/data/file/tl_product03/...</td>\n",
       "    </tr>\n",
       "    <tr>\n",
       "      <th>7</th>\n",
       "      <td>보해셀처 퓨어시티(플레인)</td>\n",
       "      <td>5%(하드셀처)</td>\n",
       "      <td>無당, 無색소, 無인공향료의 하드셀처</td>\n",
       "      <td>http://www.bohae.co.kr/data/file/tl_product03/...</td>\n",
       "    </tr>\n",
       "    <tr>\n",
       "      <th>8</th>\n",
       "      <td>보해셀처 유자러브(유자)</td>\n",
       "      <td>5%(하드셀처)</td>\n",
       "      <td>無당, 無색소, 無인공향료 천연유자과즙을 함유한 하드셀처</td>\n",
       "      <td>http://www.bohae.co.kr/data/file/tl_product03/...</td>\n",
       "    </tr>\n",
       "    <tr>\n",
       "      <th>9</th>\n",
       "      <td>여수밤바다</td>\n",
       "      <td>16.9%</td>\n",
       "      <td>여수밤바다는 광주전남 대표 주류기업 보해가 지역을 대표하는 관광명소인 여수를 위해 ...</td>\n",
       "      <td>http://www.bohae.co.kr/data/file/tl_product03/...</td>\n",
       "    </tr>\n",
       "    <tr>\n",
       "      <th>10</th>\n",
       "      <td>천년애</td>\n",
       "      <td>17.2%</td>\n",
       "      <td>천년애는 소주 특유의 알코올 향과 쓴맛을 줄이면서도 소주의 좋은 맛은 남겼습니다.</td>\n",
       "      <td>http://www.bohae.co.kr/data/file/tl_product03/...</td>\n",
       "    </tr>\n",
       "  </tbody>\n",
       "</table>\n",
       "</div>"
      ],
      "text/plain": [
       "                이름        도수  \\\n",
       "0              잎새주     17.3%   \n",
       "1             복분자주       15%   \n",
       "2              매취순       14%   \n",
       "3               순희        6%   \n",
       "4            부라더소다        3%   \n",
       "5             보해골드       23%   \n",
       "6             보해소주     16.8%   \n",
       "7   보해셀처 퓨어시티(플레인)  5%(하드셀처)   \n",
       "8    보해셀처 유자러브(유자)  5%(하드셀처)   \n",
       "9            여수밤바다     16.9%   \n",
       "10             천년애     17.2%   \n",
       "\n",
       "                                                   설명  \\\n",
       "0   잎새주는 100% 자연에서 추출한 감미료만을 사용했습니다. 잎새주는 당과 나트륨, ...   \n",
       "1   보해 복분자주는 복분자 특유의 맛과 향을 살리기 위해 효모를 이용해 발효시킨 뒤, ...   \n",
       "2   ‘매취순’은 국내 최대의 매실농원인 전남 해남 보해매실농원에서 직접 수확한 국산 청...   \n",
       "3   노령산맥 지하 253m의 천연 암반수로 빚었으며, 16일간의 장기 저온발효 후 숙성...   \n",
       "4   ‘부라더#소다’는 달콤한 밀키소다 맛에 톡 쏘는 탄산을 더해 소비자들이 부담 없이 ...   \n",
       "5   순수 국내산 쌀보리 곡물주정을 그대로 담아냈으며 전남 보성녹차를 새롭게 첨가해 명품...   \n",
       "6   보해소주의 가장 큰 특징은 소금을 넣었다는 것입니다. 수억 년 전 태초의 바다로부터...   \n",
       "7                                無당, 無색소, 無인공향료의 하드셀처   \n",
       "8                     無당, 無색소, 無인공향료 천연유자과즙을 함유한 하드셀처   \n",
       "9   여수밤바다는 광주전남 대표 주류기업 보해가 지역을 대표하는 관광명소인 여수를 위해 ...   \n",
       "10      천년애는 소주 특유의 알코올 향과 쓴맛을 줄이면서도 소주의 좋은 맛은 남겼습니다.   \n",
       "\n",
       "                                                이미지경로  \n",
       "0   http://www.bohae.co.kr/data/file/tl_product03/...  \n",
       "1   http://www.bohae.co.kr/data/file/tl_product03/...  \n",
       "2   http://www.bohae.co.kr/data/file/tl_product03/...  \n",
       "3   http://www.bohae.co.kr/data/file/tl_product03/...  \n",
       "4   http://www.bohae.co.kr/data/file/tl_product03/...  \n",
       "5   http://www.bohae.co.kr/data/file/tl_product03/...  \n",
       "6   http://www.bohae.co.kr/data/file/tl_product03/...  \n",
       "7   http://www.bohae.co.kr/data/file/tl_product03/...  \n",
       "8   http://www.bohae.co.kr/data/file/tl_product03/...  \n",
       "9   http://www.bohae.co.kr/data/file/tl_product03/...  \n",
       "10  http://www.bohae.co.kr/data/file/tl_product03/...  "
      ]
     },
     "execution_count": 20,
     "metadata": {},
     "output_type": "execute_result"
    }
   ],
   "source": [
    "dic = {\"이름\" : name_list, \"도수\" : abv_list, \"설명\" : des_list, \"이미지경로\" : img_list}\n",
    "fin = pd.DataFrame(dic)\n",
    "fin"
   ]
  },
  {
   "cell_type": "code",
   "execution_count": 21,
   "id": "f7742719",
   "metadata": {},
   "outputs": [],
   "source": [
    "fin.to_csv(\"보해양조 - 소주(증류주).csv\", encoding=\"euc-kr\")"
   ]
  },
  {
   "cell_type": "code",
   "execution_count": 16,
   "id": "66544b9b",
   "metadata": {},
   "outputs": [
    {
     "name": "stderr",
     "output_type": "stream",
     "text": [
      "C:\\Users\\smhrd\\AppData\\Local\\Temp/ipykernel_12140/3972641316.py:2: DeprecationWarning: find_element_by_* commands are deprecated. Please use find_element() instead\n",
      "  btn = driver.find_element_by_css_selector('#gall_ul > li:nth-child(11) > div > div.gall_con > div.gall_img > a > img')\n"
     ]
    }
   ],
   "source": [
    "#버튼(child 숫자는 반복문 사용)\n",
    "btn = driver.find_element_by_css_selector('#gall_ul > li:nth-child(11) > div > div.gall_con > div.gall_img > a > img')\n",
    "btn.click()"
   ]
  },
  {
   "cell_type": "code",
   "execution_count": 5,
   "id": "91b0ee2a",
   "metadata": {},
   "outputs": [
    {
     "name": "stderr",
     "output_type": "stream",
     "text": [
      "C:\\Users\\smhrd\\AppData\\Local\\Temp/ipykernel_12140/2343498203.py:2: DeprecationWarning: find_element_by_* commands are deprecated. Please use find_element() instead\n",
      "  name = driver.find_element_by_css_selector('#bo_v_atc > div.clearfix > div.spec > table > tbody > tr:nth-child(1) > td')\n"
     ]
    },
    {
     "data": {
      "text/plain": [
       "'잎새주'"
      ]
     },
     "execution_count": 5,
     "metadata": {},
     "output_type": "execute_result"
    }
   ],
   "source": [
    "#이름\n",
    "name = driver.find_element_by_css_selector('#bo_v_atc > div.clearfix > div.spec > table > tbody > tr:nth-child(1) > td')\n",
    "name.text"
   ]
  },
  {
   "cell_type": "code",
   "execution_count": 6,
   "id": "d6d16bb5",
   "metadata": {},
   "outputs": [
    {
     "name": "stderr",
     "output_type": "stream",
     "text": [
      "C:\\Users\\smhrd\\AppData\\Local\\Temp/ipykernel_12140/3672044818.py:2: DeprecationWarning: find_element_by_* commands are deprecated. Please use find_element() instead\n",
      "  abv = driver.find_element_by_css_selector('#bo_v_atc > div.clearfix > div.spec > table > tbody > tr:nth-child(3) > td')\n"
     ]
    },
    {
     "data": {
      "text/plain": [
       "'17.3%'"
      ]
     },
     "execution_count": 6,
     "metadata": {},
     "output_type": "execute_result"
    }
   ],
   "source": [
    "#도수\n",
    "abv = driver.find_element_by_css_selector('#bo_v_atc > div.clearfix > div.spec > table > tbody > tr:nth-child(3) > td')\n",
    "abv.text"
   ]
  },
  {
   "cell_type": "code",
   "execution_count": 7,
   "id": "fe2a8055",
   "metadata": {},
   "outputs": [
    {
     "name": "stderr",
     "output_type": "stream",
     "text": [
      "C:\\Users\\smhrd\\AppData\\Local\\Temp/ipykernel_12140/308713402.py:2: DeprecationWarning: find_element_by_* commands are deprecated. Please use find_element() instead\n",
      "  des = driver.find_element_by_css_selector('#bo_v_atc > div.clearfix > div.spec > table > tbody > tr:nth-child(4) > td')\n"
     ]
    },
    {
     "data": {
      "text/plain": [
       "'잎새주는 100% 자연에서 추출한 감미료만을 사용했습니다. 잎새주는 당과 나트륨, MSG를 넣지 않은 소주입니다. 지하 253M 방울샘 천연암반수로 빚은 잎새주. 일반 수돗물을 걸러서 만든 소주와는 비교할 수 없을 만큼 그 맛이 싱그럽습니다.'"
      ]
     },
     "execution_count": 7,
     "metadata": {},
     "output_type": "execute_result"
    }
   ],
   "source": [
    "#설명\n",
    "des = driver.find_element_by_css_selector('#bo_v_atc > div.clearfix > div.spec > table > tbody > tr:nth-child(4) > td')\n",
    "des.text"
   ]
  },
  {
   "cell_type": "code",
   "execution_count": 14,
   "id": "38d6f760",
   "metadata": {},
   "outputs": [],
   "source": [
    "#이미지 경로(숫자변경)\n",
    "soup = bs(driver.page_source,\"lxml\")\n",
    "img = soup.select(\"#gall_ul > li:nth-child(2) > div > div.gall_con > div.gall_img > a > img\")"
   ]
  },
  {
   "cell_type": "code",
   "execution_count": 15,
   "id": "5e3f6d5b",
   "metadata": {},
   "outputs": [
    {
     "data": {
      "text/plain": [
       "'http://www.bohae.co.kr/data/file/tl_product03/thumb-3537480841_WbVdIUJD_63c726d459d0ffdbe336f1c1bb34842a972d8913_400x300.jpg'"
      ]
     },
     "execution_count": 15,
     "metadata": {},
     "output_type": "execute_result"
    }
   ],
   "source": [
    "img[0][\"src\"]"
   ]
  },
  {
   "cell_type": "code",
   "execution_count": null,
   "id": "1aa6bb55",
   "metadata": {},
   "outputs": [],
   "source": []
  },
  {
   "cell_type": "code",
   "execution_count": null,
   "id": "6b722803",
   "metadata": {},
   "outputs": [],
   "source": [
    " body = driver.find_element_by_css_selector(\"body\")\n",
    "            body.send_keys(Keys.ARROW_DOWN)"
   ]
  },
  {
   "cell_type": "code",
   "execution_count": null,
   "id": "c9f9931d",
   "metadata": {},
   "outputs": [],
   "source": []
  },
  {
   "cell_type": "code",
   "execution_count": null,
   "id": "5bf37fa3",
   "metadata": {},
   "outputs": [],
   "source": []
  }
 ],
 "metadata": {
  "kernelspec": {
   "display_name": "Python 3 (ipykernel)",
   "language": "python",
   "name": "python3"
  },
  "language_info": {
   "codemirror_mode": {
    "name": "ipython",
    "version": 3
   },
   "file_extension": ".py",
   "mimetype": "text/x-python",
   "name": "python",
   "nbconvert_exporter": "python",
   "pygments_lexer": "ipython3",
   "version": "3.9.7"
  }
 },
 "nbformat": 4,
 "nbformat_minor": 5
}
