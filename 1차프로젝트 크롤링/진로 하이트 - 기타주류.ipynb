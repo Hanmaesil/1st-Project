{
 "cells": [
  {
   "cell_type": "code",
   "execution_count": 5,
   "id": "e43c6184",
   "metadata": {},
   "outputs": [],
   "source": [
    "from selenium import webdriver as wb\n",
    "from selenium.webdriver.common.keys import Keys\n",
    "import time\n",
    "import random\n",
    "import requests as req\n",
    "from bs4 import BeautifulSoup as bs\n",
    "import re\n",
    "import pandas as pd"
   ]
  },
  {
   "cell_type": "code",
   "execution_count": 6,
   "id": "a5c1bc86",
   "metadata": {},
   "outputs": [],
   "source": [
    "driver = wb.Chrome()\n",
    "driver.maximize_window()\n",
    "time.sleep(random.uniform(2,4))\n",
    "driver.get('https://www.hitejinro.com/brand/view.asp?brandcd2=E08')"
   ]
  },
  {
   "cell_type": "code",
   "execution_count": 10,
   "id": "d16fdf45",
   "metadata": {},
   "outputs": [
    {
     "name": "stderr",
     "output_type": "stream",
     "text": [
      "C:\\Users\\smhrd\\AppData\\Local\\Temp/ipykernel_8688/35371075.py:7: DeprecationWarning: find_element_by_* commands are deprecated. Please use find_element() instead\n",
      "  btn = driver.find_element_by_css_selector('#brand_gnb > ul > li.gnb_e.on > div.sub > ul > li:nth-child('+str(i)+') > a > span')\n",
      "C:\\Users\\smhrd\\AppData\\Local\\Temp/ipykernel_8688/35371075.py:10: DeprecationWarning: find_element_by_* commands are deprecated. Please use find_element() instead\n",
      "  name = driver.find_element_by_css_selector('a.on')\n",
      "C:\\Users\\smhrd\\AppData\\Local\\Temp/ipykernel_8688/35371075.py:13: DeprecationWarning: find_element_by_* commands are deprecated. Please use find_element() instead\n",
      "  abv = driver.find_element_by_css_selector(\"tr.alcohol\")\n",
      "C:\\Users\\smhrd\\AppData\\Local\\Temp/ipykernel_8688/35371075.py:19: DeprecationWarning: find_element_by_* commands are deprecated. Please use find_element() instead\n",
      "  des = driver.find_element_by_css_selector(\"tr.feature\")\n",
      "C:\\Users\\smhrd\\AppData\\Local\\Temp/ipykernel_8688/35371075.py:22: DeprecationWarning: find_element_by_* commands are deprecated. Please use find_element() instead\n",
      "  des = driver.find_element_by_css_selector('tr.desc')\n"
     ]
    }
   ],
   "source": [
    "name_list = [] #이름\n",
    "abv_list = [] #도수\n",
    "des_list = [] #설명\n",
    "img_list = [] #이미지 경로\n",
    "\n",
    "for i in range(1,9):\n",
    "    btn = driver.find_element_by_css_selector('#brand_gnb > ul > li.gnb_e.on > div.sub > ul > li:nth-child('+str(i)+') > a > span')\n",
    "    btn.click()\n",
    "    time.sleep(random.uniform(3,5))\n",
    "    name = driver.find_element_by_css_selector('a.on')\n",
    "    name_list.append(name.text)\n",
    "    try : \n",
    "        abv = driver.find_element_by_css_selector(\"tr.alcohol\")\n",
    "        abv_list.append(abv.text)\n",
    "    except :\n",
    "        abv_list.append(\"none\")\n",
    "    try : \n",
    "        try:\n",
    "            des = driver.find_element_by_css_selector(\"tr.feature\")\n",
    "            des_list.append(des.text)\n",
    "        except:\n",
    "            des = driver.find_element_by_css_selector('tr.desc')\n",
    "            des_list.append(des.text)\n",
    "    except : \n",
    "        des_list.append(\"img\")"
   ]
  },
  {
   "cell_type": "code",
   "execution_count": null,
   "id": "5ca4ef1e",
   "metadata": {},
   "outputs": [],
   "source": [
    "'#brand_gnb > ul > li.gnb_e.on > div.sub > ul > li:nth-child('+str(i)+') > a > span'\n",
    "#brand_gnb > ul > li.gnb_e.on > div.sub > ul > li:nth-child(1) > a > span\n",
    "#brand_gnb > ul > li.gnb_e.on > div.sub > ul > li:nth-child(2) > a > span"
   ]
  },
  {
   "cell_type": "code",
   "execution_count": 11,
   "id": "879a1c10",
   "metadata": {},
   "outputs": [
    {
     "data": {
      "text/html": [
       "<div>\n",
       "<style scoped>\n",
       "    .dataframe tbody tr th:only-of-type {\n",
       "        vertical-align: middle;\n",
       "    }\n",
       "\n",
       "    .dataframe tbody tr th {\n",
       "        vertical-align: top;\n",
       "    }\n",
       "\n",
       "    .dataframe thead th {\n",
       "        text-align: right;\n",
       "    }\n",
       "</style>\n",
       "<table border=\"1\" class=\"dataframe\">\n",
       "  <thead>\n",
       "    <tr style=\"text-align: right;\">\n",
       "      <th></th>\n",
       "      <th>이름</th>\n",
       "      <th>도수</th>\n",
       "      <th>설명</th>\n",
       "    </tr>\n",
       "  </thead>\n",
       "  <tbody>\n",
       "    <tr>\n",
       "      <th>0</th>\n",
       "      <td>필라이트</td>\n",
       "      <td>알코올 2%</td>\n",
       "      <td>특징 말도 안되게 공들여 만든 필라이트의 상쾌한 탄산과\\n상큼 달콤한 자몽 과일즙 ...</td>\n",
       "    </tr>\n",
       "    <tr>\n",
       "      <th>1</th>\n",
       "      <td>이슬톡톡</td>\n",
       "      <td>알코올 3%</td>\n",
       "      <td>특징 톡! 톡! 튀는 탄산을 타고 입안 가득 퍼지는 짜릿함!\\n이슬톡톡과 상큼하고 ...</td>\n",
       "    </tr>\n",
       "    <tr>\n",
       "      <th>2</th>\n",
       "      <td>하이트 망고링고</td>\n",
       "      <td>알코올 2.5%</td>\n",
       "      <td>특징 과즙미 팡팡 터지는 망고 과즙과 부담 없는 알코올 도수 2.5%!\\n그 이름도...</td>\n",
       "    </tr>\n",
       "    <tr>\n",
       "      <th>3</th>\n",
       "      <td>메로나에이슬</td>\n",
       "      <td>알코올 12%</td>\n",
       "      <td>특징 멜론의 달콤한 첫 향과 입안을 부드럽게 감싸는 풍미의 ‘메로나에이슬’로 색다르...</td>\n",
       "    </tr>\n",
       "    <tr>\n",
       "      <th>4</th>\n",
       "      <td>자몽에이슬</td>\n",
       "      <td>알코올 13%</td>\n",
       "      <td>특징 여성들이 사랑하는 대표 과일 자몽과 대한민국 대표 소주 참이슬이 만나,\\n상큼...</td>\n",
       "    </tr>\n",
       "    <tr>\n",
       "      <th>5</th>\n",
       "      <td>청포도에이슬</td>\n",
       "      <td>알코올 13%</td>\n",
       "      <td>특징 달콤한 청포도가 깨끗한 이슬을 만나, 달콤함과 청량감은 한층\\n업그레이드 되고...</td>\n",
       "    </tr>\n",
       "    <tr>\n",
       "      <th>6</th>\n",
       "      <td>매화수</td>\n",
       "      <td>알코올 12%</td>\n",
       "      <td>특징 ‘저온 냉동 여과공법’을 사용해 부드럽고 깨끗한 맛!\\n매실의 풍미와 달콤함을...</td>\n",
       "    </tr>\n",
       "    <tr>\n",
       "      <th>7</th>\n",
       "      <td>진로와인</td>\n",
       "      <td>알코올 10%</td>\n",
       "      <td>특징 국내 소비자의 입맛에 가장 잘 맞는 한국형 와인</td>\n",
       "    </tr>\n",
       "  </tbody>\n",
       "</table>\n",
       "</div>"
      ],
      "text/plain": [
       "         이름        도수                                                 설명\n",
       "0      필라이트    알코올 2%  특징 말도 안되게 공들여 만든 필라이트의 상쾌한 탄산과\\n상큼 달콤한 자몽 과일즙 ...\n",
       "1      이슬톡톡    알코올 3%  특징 톡! 톡! 튀는 탄산을 타고 입안 가득 퍼지는 짜릿함!\\n이슬톡톡과 상큼하고 ...\n",
       "2  하이트 망고링고  알코올 2.5%  특징 과즙미 팡팡 터지는 망고 과즙과 부담 없는 알코올 도수 2.5%!\\n그 이름도...\n",
       "3    메로나에이슬   알코올 12%  특징 멜론의 달콤한 첫 향과 입안을 부드럽게 감싸는 풍미의 ‘메로나에이슬’로 색다르...\n",
       "4     자몽에이슬   알코올 13%  특징 여성들이 사랑하는 대표 과일 자몽과 대한민국 대표 소주 참이슬이 만나,\\n상큼...\n",
       "5    청포도에이슬   알코올 13%  특징 달콤한 청포도가 깨끗한 이슬을 만나, 달콤함과 청량감은 한층\\n업그레이드 되고...\n",
       "6       매화수   알코올 12%  특징 ‘저온 냉동 여과공법’을 사용해 부드럽고 깨끗한 맛!\\n매실의 풍미와 달콤함을...\n",
       "7      진로와인   알코올 10%                      특징 국내 소비자의 입맛에 가장 잘 맞는 한국형 와인"
      ]
     },
     "execution_count": 11,
     "metadata": {},
     "output_type": "execute_result"
    }
   ],
   "source": [
    "dic = {\"이름\" : name_list, \"도수\" : abv_list, \"설명\" : des_list}\n",
    "fin = pd.DataFrame(dic)\n",
    "fin"
   ]
  },
  {
   "cell_type": "code",
   "execution_count": 13,
   "id": "17815f33",
   "metadata": {},
   "outputs": [],
   "source": [
    "fin.to_csv(\"진로하이트 - 기타주류.csv\", encoding=\"euc-kr\")"
   ]
  }
 ],
 "metadata": {
  "kernelspec": {
   "display_name": "Python 3 (ipykernel)",
   "language": "python",
   "name": "python3"
  },
  "language_info": {
   "codemirror_mode": {
    "name": "ipython",
    "version": 3
   },
   "file_extension": ".py",
   "mimetype": "text/x-python",
   "name": "python",
   "nbconvert_exporter": "python",
   "pygments_lexer": "ipython3",
   "version": "3.9.7"
  }
 },
 "nbformat": 4,
 "nbformat_minor": 5
}
