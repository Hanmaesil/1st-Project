{
 "cells": [
  {
   "cell_type": "code",
   "execution_count": 1,
   "id": "4414ca3c",
   "metadata": {},
   "outputs": [],
   "source": [
    "from selenium import webdriver as wb\n",
    "from selenium.webdriver.common.keys import Keys\n",
    "import time\n",
    "import requests as req\n",
    "from bs4 import BeautifulSoup as bs\n",
    "import re"
   ]
  },
  {
   "cell_type": "code",
   "execution_count": 10,
   "id": "84e8ea8b",
   "metadata": {},
   "outputs": [],
   "source": [
    "driver = wb.Chrome()\n",
    "driver.get(\"https://distiller.com/search?spirit_style_id=104&sort=total_num_of_ratings\")"
   ]
  },
  {
   "cell_type": "code",
   "execution_count": 9,
   "id": "fbb99511",
   "metadata": {},
   "outputs": [
    {
     "name": "stderr",
     "output_type": "stream",
     "text": [
      "C:\\Users\\win10\\AppData\\Local\\Temp/ipykernel_19784/285583890.py:1: DeprecationWarning: find_elements_by_* commands are deprecated. Please use find_elements() instead\n",
      "  btn = driver.find_elements_by_css_selector(\"div.name\")\n"
     ]
    },
    {
     "name": "stdout",
     "output_type": "stream",
     "text": [
      "https://distiller.com/spirits/zubrowka-bison-grass-vodka\n"
     ]
    },
    {
     "data": {
      "text/plain": [
       "<Response [200]>"
      ]
     },
     "execution_count": 9,
     "metadata": {},
     "output_type": "execute_result"
    }
   ],
   "source": [
    "btn = driver.find_elements_by_css_selector(\"div.name\")\n",
    "btn[0].click()\n",
    "# url = driver.current_url\n",
    "# print(url)\n",
    "# req.get(url)"
   ]
  },
  {
   "cell_type": "code",
   "execution_count": 14,
   "id": "5a64e0cc",
   "metadata": {},
   "outputs": [
    {
     "name": "stderr",
     "output_type": "stream",
     "text": [
      "C:\\Users\\win10\\AppData\\Local\\Temp/ipykernel_19784/3965505016.py:7: DeprecationWarning: find_elements_by_* commands are deprecated. Please use find_elements() instead\n",
      "  btn = driver.find_elements_by_css_selector(\"div.name\")\n"
     ]
    }
   ],
   "source": [
    "pattern = re.compile('url\\((.*?)\\)') \n",
    "item_list = []\n",
    "score_list = []\n",
    "url_list = []\n",
    "\n",
    "for i in range(3) :\n",
    "    btn = driver.find_elements_by_css_selector(\"div.name\")\n",
    "    btn[i].click()\n",
    "    time.sleep(3)\n",
    "    url = driver.current_url\n",
    "    res = req.get(url)\n",
    "    found = re.search(pattern,res.text)\n",
    "    url_list.append(found.group(1))\n",
    "    driver.back()\n",
    "    time.sleep(2)\n",
    "    \n",
    "    "
   ]
  },
  {
   "cell_type": "code",
   "execution_count": 18,
   "id": "4b4d8f74",
   "metadata": {},
   "outputs": [
    {
     "data": {
      "text/plain": [
       "'https://ip-distiller.imgix.net/images/spirits/b3a16ea0-510b-0138-143d-02bfc0bf3de5/data_tile.?w=280&amp;h=280&amp;mark-w=70&amp;mark-h=70&amp;fit=crop&amp;crop=&amp;mark-align=top,left&amp;mark-pad=0&amp;mark=https://s3.amazonaws.com/is.distiller.com/images/spirit_request_tags/vodka_tag.png'"
      ]
     },
     "execution_count": 18,
     "metadata": {},
     "output_type": "execute_result"
    }
   ],
   "source": [
    "url_list[2]"
   ]
  },
  {
   "cell_type": "code",
   "execution_count": null,
   "id": "a1af2dc0",
   "metadata": {},
   "outputs": [],
   "source": []
  },
  {
   "cell_type": "code",
   "execution_count": null,
   "id": "bff673c4",
   "metadata": {},
   "outputs": [],
   "source": []
  },
  {
   "cell_type": "code",
   "execution_count": null,
   "id": "f0350c5f",
   "metadata": {},
   "outputs": [],
   "source": []
  },
  {
   "cell_type": "code",
   "execution_count": null,
   "id": "82217fff",
   "metadata": {},
   "outputs": [],
   "source": []
  },
  {
   "cell_type": "code",
   "execution_count": null,
   "id": "8d6d2b2d",
   "metadata": {},
   "outputs": [],
   "source": []
  },
  {
   "cell_type": "code",
   "execution_count": null,
   "id": "b690e676",
   "metadata": {},
   "outputs": [],
   "source": []
  }
 ],
 "metadata": {
  "kernelspec": {
   "display_name": "Python 3 (ipykernel)",
   "language": "python",
   "name": "python3"
  },
  "language_info": {
   "codemirror_mode": {
    "name": "ipython",
    "version": 3
   },
   "file_extension": ".py",
   "mimetype": "text/x-python",
   "name": "python",
   "nbconvert_exporter": "python",
   "pygments_lexer": "ipython3",
   "version": "3.9.7"
  }
 },
 "nbformat": 4,
 "nbformat_minor": 5
}
